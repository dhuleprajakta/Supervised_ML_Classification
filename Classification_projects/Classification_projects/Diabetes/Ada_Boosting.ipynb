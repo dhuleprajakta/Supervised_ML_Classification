{
 "cells": [
  {
   "cell_type": "code",
   "execution_count": 1,
   "id": "4ac109de-12f9-4798-9b1a-29827591ac99",
   "metadata": {},
   "outputs": [],
   "source": [
    "import pandas as pd\n",
    "import numpy as np\n",
    "import matplotlib.pyplot as plt\n",
    "import seaborn as sns\n",
    "\n",
    "import warnings \n",
    "warnings.simplefilter('ignore')"
   ]
  },
  {
   "cell_type": "code",
   "execution_count": 2,
   "id": "2bc5de6a-df8c-48fc-bd66-5c2b1fbd6157",
   "metadata": {},
   "outputs": [],
   "source": [
    "df = pd.read_csv(r\"E:\\Data Science by SRK\\Machine_learning\\Classification\\Diabetes\\cleaned_dataset_diabetes.csv\")"
   ]
  },
  {
   "cell_type": "code",
   "execution_count": 3,
   "id": "00d74788-4d13-4563-8f55-70f440a7eb4f",
   "metadata": {},
   "outputs": [
    {
     "data": {
      "text/html": [
       "<div>\n",
       "<style scoped>\n",
       "    .dataframe tbody tr th:only-of-type {\n",
       "        vertical-align: middle;\n",
       "    }\n",
       "\n",
       "    .dataframe tbody tr th {\n",
       "        vertical-align: top;\n",
       "    }\n",
       "\n",
       "    .dataframe thead th {\n",
       "        text-align: right;\n",
       "    }\n",
       "</style>\n",
       "<table border=\"1\" class=\"dataframe\">\n",
       "  <thead>\n",
       "    <tr style=\"text-align: right;\">\n",
       "      <th></th>\n",
       "      <th>Pregnancies</th>\n",
       "      <th>Glucose</th>\n",
       "      <th>BloodPressure</th>\n",
       "      <th>SkinThickness</th>\n",
       "      <th>Insulin</th>\n",
       "      <th>BMI</th>\n",
       "      <th>DiabetesPedigreeFunction</th>\n",
       "      <th>Age</th>\n",
       "      <th>Outcome</th>\n",
       "    </tr>\n",
       "  </thead>\n",
       "  <tbody>\n",
       "    <tr>\n",
       "      <th>0</th>\n",
       "      <td>1</td>\n",
       "      <td>89.0</td>\n",
       "      <td>66.0</td>\n",
       "      <td>23.0</td>\n",
       "      <td>1.460250</td>\n",
       "      <td>28.1</td>\n",
       "      <td>0.861443</td>\n",
       "      <td>1.288798</td>\n",
       "      <td>0</td>\n",
       "    </tr>\n",
       "    <tr>\n",
       "      <th>1</th>\n",
       "      <td>0</td>\n",
       "      <td>137.0</td>\n",
       "      <td>40.0</td>\n",
       "      <td>35.0</td>\n",
       "      <td>1.532648</td>\n",
       "      <td>43.1</td>\n",
       "      <td>1.071407</td>\n",
       "      <td>1.338267</td>\n",
       "      <td>1</td>\n",
       "    </tr>\n",
       "    <tr>\n",
       "      <th>2</th>\n",
       "      <td>3</td>\n",
       "      <td>78.0</td>\n",
       "      <td>50.0</td>\n",
       "      <td>32.0</td>\n",
       "      <td>1.452246</td>\n",
       "      <td>31.0</td>\n",
       "      <td>0.890303</td>\n",
       "      <td>1.311941</td>\n",
       "      <td>1</td>\n",
       "    </tr>\n",
       "    <tr>\n",
       "      <th>3</th>\n",
       "      <td>2</td>\n",
       "      <td>197.0</td>\n",
       "      <td>70.0</td>\n",
       "      <td>45.0</td>\n",
       "      <td>1.690052</td>\n",
       "      <td>30.5</td>\n",
       "      <td>0.857475</td>\n",
       "      <td>1.392162</td>\n",
       "      <td>1</td>\n",
       "    </tr>\n",
       "    <tr>\n",
       "      <th>4</th>\n",
       "      <td>1</td>\n",
       "      <td>189.0</td>\n",
       "      <td>60.0</td>\n",
       "      <td>23.0</td>\n",
       "      <td>1.753669</td>\n",
       "      <td>30.1</td>\n",
       "      <td>0.926098</td>\n",
       "      <td>1.404659</td>\n",
       "      <td>1</td>\n",
       "    </tr>\n",
       "    <tr>\n",
       "      <th>...</th>\n",
       "      <td>...</td>\n",
       "      <td>...</td>\n",
       "      <td>...</td>\n",
       "      <td>...</td>\n",
       "      <td>...</td>\n",
       "      <td>...</td>\n",
       "      <td>...</td>\n",
       "      <td>...</td>\n",
       "      <td>...</td>\n",
       "    </tr>\n",
       "    <tr>\n",
       "      <th>387</th>\n",
       "      <td>0</td>\n",
       "      <td>181.0</td>\n",
       "      <td>88.0</td>\n",
       "      <td>44.0</td>\n",
       "      <td>1.681244</td>\n",
       "      <td>43.3</td>\n",
       "      <td>0.882124</td>\n",
       "      <td>1.311941</td>\n",
       "      <td>1</td>\n",
       "    </tr>\n",
       "    <tr>\n",
       "      <th>388</th>\n",
       "      <td>1</td>\n",
       "      <td>128.0</td>\n",
       "      <td>88.0</td>\n",
       "      <td>39.0</td>\n",
       "      <td>1.479504</td>\n",
       "      <td>36.5</td>\n",
       "      <td>1.004630</td>\n",
       "      <td>1.351088</td>\n",
       "      <td>1</td>\n",
       "    </tr>\n",
       "    <tr>\n",
       "      <th>389</th>\n",
       "      <td>2</td>\n",
       "      <td>88.0</td>\n",
       "      <td>58.0</td>\n",
       "      <td>26.0</td>\n",
       "      <td>1.259921</td>\n",
       "      <td>28.4</td>\n",
       "      <td>0.978030</td>\n",
       "      <td>1.293804</td>\n",
       "      <td>0</td>\n",
       "    </tr>\n",
       "    <tr>\n",
       "      <th>390</th>\n",
       "      <td>10</td>\n",
       "      <td>101.0</td>\n",
       "      <td>76.0</td>\n",
       "      <td>48.0</td>\n",
       "      <td>1.541485</td>\n",
       "      <td>32.9</td>\n",
       "      <td>0.863144</td>\n",
       "      <td>1.412359</td>\n",
       "      <td>0</td>\n",
       "    </tr>\n",
       "    <tr>\n",
       "      <th>391</th>\n",
       "      <td>5</td>\n",
       "      <td>121.0</td>\n",
       "      <td>72.0</td>\n",
       "      <td>23.0</td>\n",
       "      <td>1.481727</td>\n",
       "      <td>26.2</td>\n",
       "      <td>0.889400</td>\n",
       "      <td>1.327680</td>\n",
       "      <td>0</td>\n",
       "    </tr>\n",
       "  </tbody>\n",
       "</table>\n",
       "<p>392 rows × 9 columns</p>\n",
       "</div>"
      ],
      "text/plain": [
       "     Pregnancies  Glucose  BloodPressure  SkinThickness   Insulin   BMI  \\\n",
       "0              1     89.0           66.0           23.0  1.460250  28.1   \n",
       "1              0    137.0           40.0           35.0  1.532648  43.1   \n",
       "2              3     78.0           50.0           32.0  1.452246  31.0   \n",
       "3              2    197.0           70.0           45.0  1.690052  30.5   \n",
       "4              1    189.0           60.0           23.0  1.753669  30.1   \n",
       "..           ...      ...            ...            ...       ...   ...   \n",
       "387            0    181.0           88.0           44.0  1.681244  43.3   \n",
       "388            1    128.0           88.0           39.0  1.479504  36.5   \n",
       "389            2     88.0           58.0           26.0  1.259921  28.4   \n",
       "390           10    101.0           76.0           48.0  1.541485  32.9   \n",
       "391            5    121.0           72.0           23.0  1.481727  26.2   \n",
       "\n",
       "     DiabetesPedigreeFunction       Age  Outcome  \n",
       "0                    0.861443  1.288798        0  \n",
       "1                    1.071407  1.338267        1  \n",
       "2                    0.890303  1.311941        1  \n",
       "3                    0.857475  1.392162        1  \n",
       "4                    0.926098  1.404659        1  \n",
       "..                        ...       ...      ...  \n",
       "387                  0.882124  1.311941        1  \n",
       "388                  1.004630  1.351088        1  \n",
       "389                  0.978030  1.293804        0  \n",
       "390                  0.863144  1.412359        0  \n",
       "391                  0.889400  1.327680        0  \n",
       "\n",
       "[392 rows x 9 columns]"
      ]
     },
     "execution_count": 3,
     "metadata": {},
     "output_type": "execute_result"
    }
   ],
   "source": [
    "df"
   ]
  },
  {
   "cell_type": "code",
   "execution_count": 4,
   "id": "46023dc8-f881-4849-8976-ddd62efc1212",
   "metadata": {},
   "outputs": [
    {
     "name": "stdout",
     "output_type": "stream",
     "text": [
      "<class 'pandas.core.frame.DataFrame'>\n",
      "RangeIndex: 392 entries, 0 to 391\n",
      "Data columns (total 9 columns):\n",
      " #   Column                    Non-Null Count  Dtype  \n",
      "---  ------                    --------------  -----  \n",
      " 0   Pregnancies               392 non-null    int64  \n",
      " 1   Glucose                   392 non-null    float64\n",
      " 2   BloodPressure             392 non-null    float64\n",
      " 3   SkinThickness             392 non-null    float64\n",
      " 4   Insulin                   392 non-null    float64\n",
      " 5   BMI                       392 non-null    float64\n",
      " 6   DiabetesPedigreeFunction  392 non-null    float64\n",
      " 7   Age                       392 non-null    float64\n",
      " 8   Outcome                   392 non-null    int64  \n",
      "dtypes: float64(7), int64(2)\n",
      "memory usage: 27.7 KB\n"
     ]
    }
   ],
   "source": [
    "df.info()"
   ]
  },
  {
   "cell_type": "code",
   "execution_count": 5,
   "id": "0a4ea003-bf40-439f-b9cf-463ad5635f0c",
   "metadata": {},
   "outputs": [
    {
     "data": {
      "text/plain": [
       "Pregnancies                 0\n",
       "Glucose                     0\n",
       "BloodPressure               0\n",
       "SkinThickness               0\n",
       "Insulin                     0\n",
       "BMI                         0\n",
       "DiabetesPedigreeFunction    0\n",
       "Age                         0\n",
       "Outcome                     0\n",
       "dtype: int64"
      ]
     },
     "execution_count": 5,
     "metadata": {},
     "output_type": "execute_result"
    }
   ],
   "source": [
    "df.isnull().sum()"
   ]
  },
  {
   "cell_type": "markdown",
   "id": "f427817b-7014-4210-9343-ad3f72928ba5",
   "metadata": {},
   "source": [
    "# X and y"
   ]
  },
  {
   "cell_type": "code",
   "execution_count": 6,
   "id": "fb56b246-e93c-48d2-b50e-0128c6e1d52a",
   "metadata": {},
   "outputs": [],
   "source": [
    "X = df.drop(columns = ['Outcome'])\n",
    "y = df['Outcome']"
   ]
  },
  {
   "cell_type": "markdown",
   "id": "0c19e37c-0748-4f40-8b7e-1d3df2e98101",
   "metadata": {},
   "source": [
    "# Train_test_split"
   ]
  },
  {
   "cell_type": "code",
   "execution_count": 7,
   "id": "40efb4e8-963f-4b0f-aa22-bdfc1ae5be4e",
   "metadata": {},
   "outputs": [],
   "source": [
    "from sklearn.model_selection import train_test_split\n",
    "\n",
    "X_train, X_test, y_train, y_test = train_test_split(X, y, test_size = 0.2, random_state= True)"
   ]
  },
  {
   "cell_type": "markdown",
   "id": "12acbc02-ef28-428f-ad1a-9982c2439a33",
   "metadata": {},
   "source": [
    "# ADABOOST\n",
    "**Applying Hyperparameter Tuning for identifying best parameters for adaboost**"
   ]
  },
  {
   "cell_type": "code",
   "execution_count": 8,
   "id": "58afb5a4-fd81-4fd0-8514-fa669e8d771f",
   "metadata": {},
   "outputs": [
    {
     "data": {
      "text/plain": [
       "{'n_estimators': 5}"
      ]
     },
     "execution_count": 8,
     "metadata": {},
     "output_type": "execute_result"
    }
   ],
   "source": [
    "from sklearn.model_selection import GridSearchCV\n",
    "\n",
    "# modelling\n",
    "\n",
    "from sklearn.ensemble import AdaBoostClassifier\n",
    "estimator_ab = AdaBoostClassifier()\n",
    "\n",
    "# parameters grid\n",
    "param_grid_ab = {\"n_estimators\" : list(range(1,100))}\n",
    "\n",
    "# grid search\n",
    "grid_ab = GridSearchCV(estimator_ab, param_grid_ab, cv = 5, scoring = 'accuracy')\n",
    "grid_ab.fit(X_train, y_train)\n",
    "\n",
    "# best parameters for adaboost model\n",
    "grid_ab.best_params_"
   ]
  },
  {
   "cell_type": "markdown",
   "id": "9bc14fbd-80b4-44ed-83de-f46d17a6ebbb",
   "metadata": {},
   "source": [
    "# ADA Boost model important features"
   ]
  },
  {
   "cell_type": "code",
   "execution_count": 9,
   "id": "2ea1253d-ec3c-4831-95aa-d809e45c0667",
   "metadata": {},
   "outputs": [
    {
     "data": {
      "text/plain": [
       "['Glucose', 'BMI', 'DiabetesPedigreeFunction', 'Age']"
      ]
     },
     "execution_count": 9,
     "metadata": {},
     "output_type": "execute_result"
    }
   ],
   "source": [
    "feats_ab = pd.DataFrame(data = grid_ab.best_estimator_.feature_importances_,\n",
    "                       index = X.columns, \n",
    "                       columns = ['Importance'])\n",
    "imp_features_list_ab = feats_ab[feats_ab['Importance']>0].index.to_list()\n",
    "imp_features_list_ab"
   ]
  },
  {
   "cell_type": "markdown",
   "id": "37789663-cc99-4c74-be0c-a47219b1de62",
   "metadata": {},
   "source": [
    "# ADABoost Classifier\n",
    "\n",
    "**with imortant features and best hyperparameters**"
   ]
  },
  {
   "cell_type": "code",
   "execution_count": 10,
   "id": "3479ceb2-238e-4cd9-9189-d98ecd6908ab",
   "metadata": {},
   "outputs": [
    {
     "name": "stdout",
     "output_type": "stream",
     "text": [
      "Train_accuracy :  0.8178913738019169\n",
      "cross_val_score :  0.8051203277009729\n",
      "Test_accuracy :  0.7468354430379747\n"
     ]
    }
   ],
   "source": [
    "# important input variables\n",
    "X_imp = X[imp_features_list_ab]\n",
    "\n",
    "# train test split\n",
    "X_train_ab, X_test_ab, y_train_ab, y_test_ab = train_test_split(X_imp, y, test_size = 0.2, random_state = True)\n",
    "\n",
    "# modelling\n",
    "from sklearn.ensemble import AdaBoostClassifier\n",
    "ada = AdaBoostClassifier(n_estimators= 5)\n",
    "ada.fit(X_train_ab, y_train_ab)\n",
    "\n",
    "# Evaluation on train data\n",
    "ypred_train_ab = ada.predict(X_train_ab)\n",
    "\n",
    "from sklearn.metrics import accuracy_score\n",
    "print(\"Train_accuracy : \", accuracy_score(y_train_ab, ypred_train_ab))\n",
    "\n",
    "# cross validation\n",
    "from sklearn.model_selection import cross_val_score\n",
    "print(\"cross_val_score : \", cross_val_score(ada, X_train_ab, y_train_ab, cv = 5).mean())\n",
    "\n",
    "# Evaluation\n",
    "ypred_test_ab = ada.predict(X_test_ab)\n",
    "print(\"Test_accuracy : \", accuracy_score(y_test_ab, ypred_test_ab))\n"
   ]
  },
  {
   "cell_type": "code",
   "execution_count": 11,
   "id": "94cc514c-de8f-414a-ab2b-0ebf2f012bce",
   "metadata": {},
   "outputs": [
    {
     "name": "stdout",
     "output_type": "stream",
     "text": [
      "10.5 ms ± 773 μs per loop (mean ± std. dev. of 7 runs, 100 loops each)\n"
     ]
    }
   ],
   "source": [
    "%%timeit\n",
    "ada.fit(X_train_ab, y_train_ab)\n"
   ]
  }
 ],
 "metadata": {
  "kernelspec": {
   "display_name": "Python 3 (ipykernel)",
   "language": "python",
   "name": "python3"
  },
  "language_info": {
   "codemirror_mode": {
    "name": "ipython",
    "version": 3
   },
   "file_extension": ".py",
   "mimetype": "text/x-python",
   "name": "python",
   "nbconvert_exporter": "python",
   "pygments_lexer": "ipython3",
   "version": "3.12.4"
  }
 },
 "nbformat": 4,
 "nbformat_minor": 5
}
