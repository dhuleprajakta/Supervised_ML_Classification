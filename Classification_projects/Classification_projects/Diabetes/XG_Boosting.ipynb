{
 "cells": [
  {
   "cell_type": "code",
   "execution_count": 1,
   "id": "4ac109de-12f9-4798-9b1a-29827591ac99",
   "metadata": {},
   "outputs": [],
   "source": [
    "import pandas as pd\n",
    "import numpy as np\n",
    "import matplotlib.pyplot as plt\n",
    "import seaborn as sns\n",
    "\n",
    "import warnings \n",
    "warnings.simplefilter('ignore')"
   ]
  },
  {
   "cell_type": "code",
   "execution_count": 2,
   "id": "2bc5de6a-df8c-48fc-bd66-5c2b1fbd6157",
   "metadata": {},
   "outputs": [],
   "source": [
    "df = pd.read_csv(r\"E:\\Data Science by SRK\\Machine_learning\\Classification\\Diabetes\\cleaned_dataset_diabetes.csv\")"
   ]
  },
  {
   "cell_type": "code",
   "execution_count": 3,
   "id": "00d74788-4d13-4563-8f55-70f440a7eb4f",
   "metadata": {},
   "outputs": [
    {
     "data": {
      "text/html": [
       "<div>\n",
       "<style scoped>\n",
       "    .dataframe tbody tr th:only-of-type {\n",
       "        vertical-align: middle;\n",
       "    }\n",
       "\n",
       "    .dataframe tbody tr th {\n",
       "        vertical-align: top;\n",
       "    }\n",
       "\n",
       "    .dataframe thead th {\n",
       "        text-align: right;\n",
       "    }\n",
       "</style>\n",
       "<table border=\"1\" class=\"dataframe\">\n",
       "  <thead>\n",
       "    <tr style=\"text-align: right;\">\n",
       "      <th></th>\n",
       "      <th>Pregnancies</th>\n",
       "      <th>Glucose</th>\n",
       "      <th>BloodPressure</th>\n",
       "      <th>SkinThickness</th>\n",
       "      <th>Insulin</th>\n",
       "      <th>BMI</th>\n",
       "      <th>DiabetesPedigreeFunction</th>\n",
       "      <th>Age</th>\n",
       "      <th>Outcome</th>\n",
       "    </tr>\n",
       "  </thead>\n",
       "  <tbody>\n",
       "    <tr>\n",
       "      <th>0</th>\n",
       "      <td>1</td>\n",
       "      <td>89.0</td>\n",
       "      <td>66.0</td>\n",
       "      <td>23.0</td>\n",
       "      <td>1.460250</td>\n",
       "      <td>28.1</td>\n",
       "      <td>0.861443</td>\n",
       "      <td>1.288798</td>\n",
       "      <td>0</td>\n",
       "    </tr>\n",
       "    <tr>\n",
       "      <th>1</th>\n",
       "      <td>0</td>\n",
       "      <td>137.0</td>\n",
       "      <td>40.0</td>\n",
       "      <td>35.0</td>\n",
       "      <td>1.532648</td>\n",
       "      <td>43.1</td>\n",
       "      <td>1.071407</td>\n",
       "      <td>1.338267</td>\n",
       "      <td>1</td>\n",
       "    </tr>\n",
       "    <tr>\n",
       "      <th>2</th>\n",
       "      <td>3</td>\n",
       "      <td>78.0</td>\n",
       "      <td>50.0</td>\n",
       "      <td>32.0</td>\n",
       "      <td>1.452246</td>\n",
       "      <td>31.0</td>\n",
       "      <td>0.890303</td>\n",
       "      <td>1.311941</td>\n",
       "      <td>1</td>\n",
       "    </tr>\n",
       "    <tr>\n",
       "      <th>3</th>\n",
       "      <td>2</td>\n",
       "      <td>197.0</td>\n",
       "      <td>70.0</td>\n",
       "      <td>45.0</td>\n",
       "      <td>1.690052</td>\n",
       "      <td>30.5</td>\n",
       "      <td>0.857475</td>\n",
       "      <td>1.392162</td>\n",
       "      <td>1</td>\n",
       "    </tr>\n",
       "    <tr>\n",
       "      <th>4</th>\n",
       "      <td>1</td>\n",
       "      <td>189.0</td>\n",
       "      <td>60.0</td>\n",
       "      <td>23.0</td>\n",
       "      <td>1.753669</td>\n",
       "      <td>30.1</td>\n",
       "      <td>0.926098</td>\n",
       "      <td>1.404659</td>\n",
       "      <td>1</td>\n",
       "    </tr>\n",
       "    <tr>\n",
       "      <th>...</th>\n",
       "      <td>...</td>\n",
       "      <td>...</td>\n",
       "      <td>...</td>\n",
       "      <td>...</td>\n",
       "      <td>...</td>\n",
       "      <td>...</td>\n",
       "      <td>...</td>\n",
       "      <td>...</td>\n",
       "      <td>...</td>\n",
       "    </tr>\n",
       "    <tr>\n",
       "      <th>387</th>\n",
       "      <td>0</td>\n",
       "      <td>181.0</td>\n",
       "      <td>88.0</td>\n",
       "      <td>44.0</td>\n",
       "      <td>1.681244</td>\n",
       "      <td>43.3</td>\n",
       "      <td>0.882124</td>\n",
       "      <td>1.311941</td>\n",
       "      <td>1</td>\n",
       "    </tr>\n",
       "    <tr>\n",
       "      <th>388</th>\n",
       "      <td>1</td>\n",
       "      <td>128.0</td>\n",
       "      <td>88.0</td>\n",
       "      <td>39.0</td>\n",
       "      <td>1.479504</td>\n",
       "      <td>36.5</td>\n",
       "      <td>1.004630</td>\n",
       "      <td>1.351088</td>\n",
       "      <td>1</td>\n",
       "    </tr>\n",
       "    <tr>\n",
       "      <th>389</th>\n",
       "      <td>2</td>\n",
       "      <td>88.0</td>\n",
       "      <td>58.0</td>\n",
       "      <td>26.0</td>\n",
       "      <td>1.259921</td>\n",
       "      <td>28.4</td>\n",
       "      <td>0.978030</td>\n",
       "      <td>1.293804</td>\n",
       "      <td>0</td>\n",
       "    </tr>\n",
       "    <tr>\n",
       "      <th>390</th>\n",
       "      <td>10</td>\n",
       "      <td>101.0</td>\n",
       "      <td>76.0</td>\n",
       "      <td>48.0</td>\n",
       "      <td>1.541485</td>\n",
       "      <td>32.9</td>\n",
       "      <td>0.863144</td>\n",
       "      <td>1.412359</td>\n",
       "      <td>0</td>\n",
       "    </tr>\n",
       "    <tr>\n",
       "      <th>391</th>\n",
       "      <td>5</td>\n",
       "      <td>121.0</td>\n",
       "      <td>72.0</td>\n",
       "      <td>23.0</td>\n",
       "      <td>1.481727</td>\n",
       "      <td>26.2</td>\n",
       "      <td>0.889400</td>\n",
       "      <td>1.327680</td>\n",
       "      <td>0</td>\n",
       "    </tr>\n",
       "  </tbody>\n",
       "</table>\n",
       "<p>392 rows × 9 columns</p>\n",
       "</div>"
      ],
      "text/plain": [
       "     Pregnancies  Glucose  BloodPressure  SkinThickness   Insulin   BMI  \\\n",
       "0              1     89.0           66.0           23.0  1.460250  28.1   \n",
       "1              0    137.0           40.0           35.0  1.532648  43.1   \n",
       "2              3     78.0           50.0           32.0  1.452246  31.0   \n",
       "3              2    197.0           70.0           45.0  1.690052  30.5   \n",
       "4              1    189.0           60.0           23.0  1.753669  30.1   \n",
       "..           ...      ...            ...            ...       ...   ...   \n",
       "387            0    181.0           88.0           44.0  1.681244  43.3   \n",
       "388            1    128.0           88.0           39.0  1.479504  36.5   \n",
       "389            2     88.0           58.0           26.0  1.259921  28.4   \n",
       "390           10    101.0           76.0           48.0  1.541485  32.9   \n",
       "391            5    121.0           72.0           23.0  1.481727  26.2   \n",
       "\n",
       "     DiabetesPedigreeFunction       Age  Outcome  \n",
       "0                    0.861443  1.288798        0  \n",
       "1                    1.071407  1.338267        1  \n",
       "2                    0.890303  1.311941        1  \n",
       "3                    0.857475  1.392162        1  \n",
       "4                    0.926098  1.404659        1  \n",
       "..                        ...       ...      ...  \n",
       "387                  0.882124  1.311941        1  \n",
       "388                  1.004630  1.351088        1  \n",
       "389                  0.978030  1.293804        0  \n",
       "390                  0.863144  1.412359        0  \n",
       "391                  0.889400  1.327680        0  \n",
       "\n",
       "[392 rows x 9 columns]"
      ]
     },
     "execution_count": 3,
     "metadata": {},
     "output_type": "execute_result"
    }
   ],
   "source": [
    "df"
   ]
  },
  {
   "cell_type": "code",
   "execution_count": 4,
   "id": "46023dc8-f881-4849-8976-ddd62efc1212",
   "metadata": {},
   "outputs": [
    {
     "name": "stdout",
     "output_type": "stream",
     "text": [
      "<class 'pandas.core.frame.DataFrame'>\n",
      "RangeIndex: 392 entries, 0 to 391\n",
      "Data columns (total 9 columns):\n",
      " #   Column                    Non-Null Count  Dtype  \n",
      "---  ------                    --------------  -----  \n",
      " 0   Pregnancies               392 non-null    int64  \n",
      " 1   Glucose                   392 non-null    float64\n",
      " 2   BloodPressure             392 non-null    float64\n",
      " 3   SkinThickness             392 non-null    float64\n",
      " 4   Insulin                   392 non-null    float64\n",
      " 5   BMI                       392 non-null    float64\n",
      " 6   DiabetesPedigreeFunction  392 non-null    float64\n",
      " 7   Age                       392 non-null    float64\n",
      " 8   Outcome                   392 non-null    int64  \n",
      "dtypes: float64(7), int64(2)\n",
      "memory usage: 27.7 KB\n"
     ]
    }
   ],
   "source": [
    "df.info()"
   ]
  },
  {
   "cell_type": "code",
   "execution_count": 5,
   "id": "0a4ea003-bf40-439f-b9cf-463ad5635f0c",
   "metadata": {},
   "outputs": [
    {
     "data": {
      "text/plain": [
       "Pregnancies                 0\n",
       "Glucose                     0\n",
       "BloodPressure               0\n",
       "SkinThickness               0\n",
       "Insulin                     0\n",
       "BMI                         0\n",
       "DiabetesPedigreeFunction    0\n",
       "Age                         0\n",
       "Outcome                     0\n",
       "dtype: int64"
      ]
     },
     "execution_count": 5,
     "metadata": {},
     "output_type": "execute_result"
    }
   ],
   "source": [
    "df.isnull().sum()"
   ]
  },
  {
   "cell_type": "markdown",
   "id": "f427817b-7014-4210-9343-ad3f72928ba5",
   "metadata": {},
   "source": [
    "# X and y"
   ]
  },
  {
   "cell_type": "code",
   "execution_count": 6,
   "id": "fb56b246-e93c-48d2-b50e-0128c6e1d52a",
   "metadata": {},
   "outputs": [],
   "source": [
    "X = df.drop(columns = ['Outcome'])\n",
    "y = df['Outcome']"
   ]
  },
  {
   "cell_type": "markdown",
   "id": "0c19e37c-0748-4f40-8b7e-1d3df2e98101",
   "metadata": {},
   "source": [
    "# Train_test_split"
   ]
  },
  {
   "cell_type": "code",
   "execution_count": 7,
   "id": "40efb4e8-963f-4b0f-aa22-bdfc1ae5be4e",
   "metadata": {},
   "outputs": [],
   "source": [
    "from sklearn.model_selection import train_test_split\n",
    "\n",
    "X_train, X_test, y_train, y_test = train_test_split(X, y, test_size = 0.2, random_state= True)"
   ]
  },
  {
   "cell_type": "markdown",
   "id": "5de0bd83-a333-4437-b6ea-5699d342ad5c",
   "metadata": {},
   "source": [
    "# XGBoost\n",
    "\n",
    "**Applying Hyperparameter tuning for identifying best parameters for xgboost**"
   ]
  },
  {
   "cell_type": "code",
   "execution_count": 8,
   "id": "6b4d31fd-56bf-4a27-b82d-e42a59a93c8a",
   "metadata": {},
   "outputs": [],
   "source": [
    "# !pip install xgboost\n"
   ]
  },
  {
   "cell_type": "code",
   "execution_count": 9,
   "id": "7812d450-e8e0-4314-b9aa-6ca62fc40932",
   "metadata": {},
   "outputs": [
    {
     "data": {
      "text/plain": [
       "{'gamma': 0.5, 'max_depth': 3, 'n_estimators': 5}"
      ]
     },
     "execution_count": 9,
     "metadata": {},
     "output_type": "execute_result"
    }
   ],
   "source": [
    "from sklearn.model_selection import GridSearchCV\n",
    "\n",
    "# modelling\n",
    "\n",
    "from xgboost import XGBClassifier\n",
    "\n",
    "estimator_xgb = XGBClassifier()\n",
    "\n",
    "# parameters grid\n",
    "param_grid_xgb = {\"n_estimators\" : [1,5,10,20],\n",
    "                  'max_depth': [3,4,5],\n",
    "                'gamma' : [0.1, 0.15, 0.3, 0.5, 1]}\n",
    "\n",
    "# grid search\n",
    "grid_xgb = GridSearchCV(estimator_xgb, param_grid_xgb, cv = 5, scoring = 'accuracy')\n",
    "grid_xgb.fit(X_train, y_train)\n",
    "\n",
    "# best parameters for GradientBoostingClassifier model\n",
    "grid_xgb.best_params_"
   ]
  },
  {
   "cell_type": "markdown",
   "id": "78a458fd-57af-4417-8215-334b87f00068",
   "metadata": {},
   "source": [
    "# XGB Model imortant features"
   ]
  },
  {
   "cell_type": "code",
   "execution_count": 10,
   "id": "7103edd1-fee0-4c98-bd29-2f2de731b6d4",
   "metadata": {},
   "outputs": [
    {
     "data": {
      "text/plain": [
       "['Pregnancies',\n",
       " 'Glucose',\n",
       " 'BloodPressure',\n",
       " 'SkinThickness',\n",
       " 'Insulin',\n",
       " 'BMI',\n",
       " 'DiabetesPedigreeFunction',\n",
       " 'Age']"
      ]
     },
     "execution_count": 10,
     "metadata": {},
     "output_type": "execute_result"
    }
   ],
   "source": [
    "feats_xgb = pd.DataFrame(data=grid_xgb.best_estimator_.feature_importances_,\n",
    "                        index = X.columns,\n",
    "                        columns=['Importance'])\n",
    "imp_features_list_xgb = feats_xgb[feats_xgb['Importance'] > 0].index.to_list()\n",
    "imp_features_list_xgb"
   ]
  },
  {
   "cell_type": "markdown",
   "id": "4c3efa57-cda5-4fbd-8042-ee84a42a19de",
   "metadata": {},
   "source": [
    "# Xtreme GradientBoost with important features and best hyperparameters"
   ]
  },
  {
   "cell_type": "code",
   "execution_count": 13,
   "id": "e0759c24-94e4-4c15-86d8-1b6ce2a42433",
   "metadata": {},
   "outputs": [
    {
     "name": "stdout",
     "output_type": "stream",
     "text": [
      "Train accuracy :  0.8562300319488818\n",
      "cross_val_score :  0.8145929339477727\n",
      "Test accuracy :  0.6962025316455697\n"
     ]
    }
   ],
   "source": [
    "X_imp_xgb = X[imp_features_list_xgb]\n",
    "\n",
    "X_train_xgb, X_test_xgb, y_train_xgb, y_test_xgb = train_test_split(X_imp_xgb, y, test_size = 0.2,\n",
    "                                                                   random_state = True)\n",
    "\n",
    "# modelling\n",
    "from xgboost import XGBClassifier\n",
    "xgb = XGBClassifier(gamma = 0.5, max_depth = 3, n_estimators = 5)\n",
    "xgb.fit(X_train_xgb, y_train_xgb)\n",
    "\n",
    "#Evaluation train data\n",
    "from sklearn.metrics import accuracy_score\n",
    "\n",
    "ypred_train = xgb.predict(X_train_xgb)\n",
    "print(\"Train accuracy : \", accuracy_score(y_train_xgb, ypred_train))\n",
    "\n",
    "# Cross_val_score\n",
    "from sklearn.model_selection import cross_val_score\n",
    "\n",
    "print(\"cross_val_score : \", cross_val_score(xgb, X_train_xgb, y_train_xgb, cv = 5).mean())\n",
    "\n",
    "#Evaluation test data\n",
    "ypred_test = xgb.predict(X_test_xgb)\n",
    "print(\"Test accuracy : \", accuracy_score(y_test_xgb, ypred_test))\n"
   ]
  },
  {
   "cell_type": "code",
   "execution_count": null,
   "id": "712b8a2a-ee93-4a22-a4b2-84087419dcfb",
   "metadata": {},
   "outputs": [],
   "source": [
    "%%timeit\n",
    "xgb.fit(X_train_xgb, y_train_xgb)\n"
   ]
  },
  {
   "cell_type": "markdown",
   "id": "54c54659-2db4-40bf-a7f8-5d1db6a51e7e",
   "metadata": {},
   "source": [
    "# Final model"
   ]
  },
  {
   "cell_type": "code",
   "execution_count": null,
   "id": "a1a8bb87-a220-4dbd-a3c7-d71f22ba0086",
   "metadata": {},
   "outputs": [],
   "source": [
    "xgb = XGBClassifier(gamma = 0.1, max_depth = 3, n_estimators = 20)\n"
   ]
  },
  {
   "cell_type": "code",
   "execution_count": null,
   "id": "78d8e796-dcec-4cfe-917a-5dd69a676a52",
   "metadata": {},
   "outputs": [],
   "source": [
    "plt.figure(figsize = (14,6), dpi = 200)\n",
    "\n",
    "sns.barplot(data = feats_xgb[feats_xgb['Importance'] > 0].sort_values('Importance'),\n",
    "           x = feats_xgb[feats_xgb['Importance'] > 0].index,\n",
    "           y = 'Importance')\n",
    "plt.xticks(rotation = 90)\n",
    "plt.xlabel('Importance Features')\n",
    "plt.show()"
   ]
  },
  {
   "cell_type": "code",
   "execution_count": null,
   "id": "3bf0f69c-daf9-4b27-8ac6-480809cc4606",
   "metadata": {},
   "outputs": [],
   "source": [
    "from sklearn.metrics import confusion_matrix\n",
    "confusion_matrix(y_test_xgb, ypred_test)"
   ]
  },
  {
   "cell_type": "code",
   "execution_count": null,
   "id": "9019de3e-5558-45d9-bf3e-5e47d8121e27",
   "metadata": {},
   "outputs": [],
   "source": [
    "from sklearn.metrics import classification_report\n",
    "print(classification_report(y_test_xgb, ypred_test))"
   ]
  },
  {
   "cell_type": "code",
   "execution_count": null,
   "id": "df7c455b-3701-43f5-a02b-68038417bafc",
   "metadata": {},
   "outputs": [],
   "source": []
  }
 ],
 "metadata": {
  "kernelspec": {
   "display_name": "Python 3 (ipykernel)",
   "language": "python",
   "name": "python3"
  },
  "language_info": {
   "codemirror_mode": {
    "name": "ipython",
    "version": 3
   },
   "file_extension": ".py",
   "mimetype": "text/x-python",
   "name": "python",
   "nbconvert_exporter": "python",
   "pygments_lexer": "ipython3",
   "version": "3.12.4"
  }
 },
 "nbformat": 4,
 "nbformat_minor": 5
}
