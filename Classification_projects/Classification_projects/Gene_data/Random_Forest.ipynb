{
 "cells": [
  {
   "cell_type": "code",
   "execution_count": 2,
   "id": "d9730e8e-b0b5-49fd-b57b-249111a744c6",
   "metadata": {},
   "outputs": [],
   "source": [
    "import pandas as pd \n",
    "import numpy as np\n",
    "\n",
    "import warnings\n",
    "warnings.simplefilter('ignore')"
   ]
  },
  {
   "cell_type": "code",
   "execution_count": 3,
   "id": "f324fb16-833c-4fca-9a5c-3b263727dc46",
   "metadata": {},
   "outputs": [],
   "source": [
    "df = pd.read_csv(r\"E:\\Data Science by SRK\\Machine_learning\\Classification\\Gene_data\\cleaned_dataset_Gene.csv\")"
   ]
  },
  {
   "cell_type": "code",
   "execution_count": 4,
   "id": "739f04da-8f51-4381-b2c5-bdb8892de812",
   "metadata": {},
   "outputs": [
    {
     "data": {
      "text/html": [
       "<div>\n",
       "<style scoped>\n",
       "    .dataframe tbody tr th:only-of-type {\n",
       "        vertical-align: middle;\n",
       "    }\n",
       "\n",
       "    .dataframe tbody tr th {\n",
       "        vertical-align: top;\n",
       "    }\n",
       "\n",
       "    .dataframe thead th {\n",
       "        text-align: right;\n",
       "    }\n",
       "</style>\n",
       "<table border=\"1\" class=\"dataframe\">\n",
       "  <thead>\n",
       "    <tr style=\"text-align: right;\">\n",
       "      <th></th>\n",
       "      <th>Gene_One</th>\n",
       "      <th>Gene_Two</th>\n",
       "      <th>Cancer_Present</th>\n",
       "    </tr>\n",
       "  </thead>\n",
       "  <tbody>\n",
       "    <tr>\n",
       "      <th>0</th>\n",
       "      <td>4.3</td>\n",
       "      <td>3.9</td>\n",
       "      <td>1</td>\n",
       "    </tr>\n",
       "    <tr>\n",
       "      <th>1</th>\n",
       "      <td>2.5</td>\n",
       "      <td>6.3</td>\n",
       "      <td>0</td>\n",
       "    </tr>\n",
       "    <tr>\n",
       "      <th>2</th>\n",
       "      <td>5.7</td>\n",
       "      <td>3.9</td>\n",
       "      <td>1</td>\n",
       "    </tr>\n",
       "    <tr>\n",
       "      <th>3</th>\n",
       "      <td>6.1</td>\n",
       "      <td>6.2</td>\n",
       "      <td>0</td>\n",
       "    </tr>\n",
       "    <tr>\n",
       "      <th>4</th>\n",
       "      <td>7.4</td>\n",
       "      <td>3.4</td>\n",
       "      <td>1</td>\n",
       "    </tr>\n",
       "    <tr>\n",
       "      <th>...</th>\n",
       "      <td>...</td>\n",
       "      <td>...</td>\n",
       "      <td>...</td>\n",
       "    </tr>\n",
       "    <tr>\n",
       "      <th>2133</th>\n",
       "      <td>5.0</td>\n",
       "      <td>6.5</td>\n",
       "      <td>1</td>\n",
       "    </tr>\n",
       "    <tr>\n",
       "      <th>2134</th>\n",
       "      <td>3.4</td>\n",
       "      <td>6.6</td>\n",
       "      <td>0</td>\n",
       "    </tr>\n",
       "    <tr>\n",
       "      <th>2135</th>\n",
       "      <td>2.7</td>\n",
       "      <td>6.5</td>\n",
       "      <td>0</td>\n",
       "    </tr>\n",
       "    <tr>\n",
       "      <th>2136</th>\n",
       "      <td>3.3</td>\n",
       "      <td>5.6</td>\n",
       "      <td>0</td>\n",
       "    </tr>\n",
       "    <tr>\n",
       "      <th>2137</th>\n",
       "      <td>4.6</td>\n",
       "      <td>8.2</td>\n",
       "      <td>0</td>\n",
       "    </tr>\n",
       "  </tbody>\n",
       "</table>\n",
       "<p>2138 rows × 3 columns</p>\n",
       "</div>"
      ],
      "text/plain": [
       "      Gene_One  Gene_Two  Cancer_Present\n",
       "0          4.3       3.9               1\n",
       "1          2.5       6.3               0\n",
       "2          5.7       3.9               1\n",
       "3          6.1       6.2               0\n",
       "4          7.4       3.4               1\n",
       "...        ...       ...             ...\n",
       "2133       5.0       6.5               1\n",
       "2134       3.4       6.6               0\n",
       "2135       2.7       6.5               0\n",
       "2136       3.3       5.6               0\n",
       "2137       4.6       8.2               0\n",
       "\n",
       "[2138 rows x 3 columns]"
      ]
     },
     "execution_count": 4,
     "metadata": {},
     "output_type": "execute_result"
    }
   ],
   "source": [
    "df"
   ]
  },
  {
   "cell_type": "code",
   "execution_count": 5,
   "id": "622bca22-08e5-4345-a162-9e2c9263bf00",
   "metadata": {},
   "outputs": [
    {
     "name": "stdout",
     "output_type": "stream",
     "text": [
      "<class 'pandas.core.frame.DataFrame'>\n",
      "RangeIndex: 2138 entries, 0 to 2137\n",
      "Data columns (total 3 columns):\n",
      " #   Column          Non-Null Count  Dtype  \n",
      "---  ------          --------------  -----  \n",
      " 0   Gene_One        2138 non-null   float64\n",
      " 1   Gene_Two        2138 non-null   float64\n",
      " 2   Cancer_Present  2138 non-null   int64  \n",
      "dtypes: float64(2), int64(1)\n",
      "memory usage: 50.2 KB\n"
     ]
    }
   ],
   "source": [
    "df.info()"
   ]
  },
  {
   "cell_type": "code",
   "execution_count": 6,
   "id": "25a9ad76-4f72-48c2-b67b-2fdf3257fb13",
   "metadata": {},
   "outputs": [
    {
     "data": {
      "text/plain": [
       "Gene_One          0\n",
       "Gene_Two          0\n",
       "Cancer_Present    0\n",
       "dtype: int64"
      ]
     },
     "execution_count": 6,
     "metadata": {},
     "output_type": "execute_result"
    }
   ],
   "source": [
    "df.isnull().sum()"
   ]
  },
  {
   "cell_type": "markdown",
   "id": "4c20781e-38b7-480b-adc5-556c7164b9d5",
   "metadata": {},
   "source": [
    "# X and y"
   ]
  },
  {
   "cell_type": "code",
   "execution_count": 7,
   "id": "aff6fe11-9bf3-45b0-989b-a499ffbc0ee2",
   "metadata": {},
   "outputs": [],
   "source": [
    "X = pd.get_dummies(df.drop('Cancer_Present', axis = 1), drop_first = True)\n",
    "y = df['Cancer_Present']"
   ]
  },
  {
   "cell_type": "markdown",
   "id": "c2d8c6f1-2b7b-4589-854e-0c79a67c5b26",
   "metadata": {},
   "source": [
    "# Train_Test_split"
   ]
  },
  {
   "cell_type": "code",
   "execution_count": 8,
   "id": "fccc4b3d-845c-4d82-9fb2-91b4bd76d021",
   "metadata": {},
   "outputs": [],
   "source": [
    "from sklearn.model_selection import train_test_split\n",
    "X_train, X_test, y_train, y_test = train_test_split(X, y, test_size = 0.2, random_state = True)"
   ]
  },
  {
   "cell_type": "markdown",
   "id": "7f9a56db-8bb4-498b-9d8d-467eb471ed18",
   "metadata": {},
   "source": [
    "# Modelling and Evaluation"
   ]
  },
  {
   "cell_type": "code",
   "execution_count": 9,
   "id": "df70c734-3097-4389-8ded-4f6f1eaf808a",
   "metadata": {},
   "outputs": [
    {
     "name": "stdout",
     "output_type": "stream",
     "text": [
      "Train accuracy :  0.9690058479532164\n",
      "Test accuracy :  0.8785046728971962\n",
      "cross_val_score :  0.8769802359430059\n"
     ]
    }
   ],
   "source": [
    "# Random Forest classifire with default parameters\n",
    "from sklearn.ensemble import RandomForestClassifier\n",
    "model = RandomForestClassifier(random_state = True)\n",
    "model.fit(X_train, y_train)\n",
    "\n",
    "# Prediction\n",
    "ypred_train = model.predict(X_train)\n",
    "ypred_test = model.predict(X_test)\n",
    "\n",
    "# Evaluation\n",
    "from sklearn.metrics import accuracy_score\n",
    "print(\"Train accuracy : \", accuracy_score(ypred_train, y_train))\n",
    "print(\"Test accuracy : \", accuracy_score(ypred_test, y_test))\n",
    "\n",
    "from sklearn.model_selection import cross_val_score\n",
    "print(\"cross_val_score : \", cross_val_score(model, X, y, cv=5).mean())"
   ]
  },
  {
   "cell_type": "markdown",
   "id": "97333364-11d5-414b-a5b0-d514972a0f2b",
   "metadata": {},
   "source": [
    "# Hyper_parameter Tuning"
   ]
  },
  {
   "cell_type": "code",
   "execution_count": 10,
   "id": "bde39ded-14c0-4f14-aae8-3160684b47a8",
   "metadata": {},
   "outputs": [
    {
     "data": {
      "text/plain": [
       "{'n_estimators': 8}"
      ]
     },
     "execution_count": 10,
     "metadata": {},
     "output_type": "execute_result"
    }
   ],
   "source": [
    "from sklearn.model_selection import GridSearchCV\n",
    "\n",
    "# model\n",
    "estimator = RandomForestClassifier(random_state = True)\n",
    "\n",
    "# Parameters (which you want to tune and identify the best)\n",
    "param_grid = {\"n_estimators\" : list(range(1, 10))}\n",
    "\n",
    "grid = GridSearchCV(estimator, param_grid, scoring = 'accuracy', cv= 5)\n",
    "\n",
    "grid.fit(X_train, y_train)\n",
    "\n",
    "grid.best_params_"
   ]
  },
  {
   "cell_type": "markdown",
   "id": "39d327bd-b588-40c7-a93b-a0006ee714d9",
   "metadata": {},
   "source": [
    "# Importance of each features"
   ]
  },
  {
   "cell_type": "code",
   "execution_count": 11,
   "id": "1ff4e42a-5ed4-4686-8b2e-ceffac495712",
   "metadata": {},
   "outputs": [
    {
     "data": {
      "text/plain": [
       "array([0.51180957, 0.48819043])"
      ]
     },
     "execution_count": 11,
     "metadata": {},
     "output_type": "execute_result"
    }
   ],
   "source": [
    "grid.best_estimator_.feature_importances_\n"
   ]
  },
  {
   "cell_type": "code",
   "execution_count": 12,
   "id": "e0fbfb39-24ea-4294-946e-71f909c461ef",
   "metadata": {},
   "outputs": [
    {
     "data": {
      "text/plain": [
       "['Gene_One', 'Gene_Two']"
      ]
     },
     "execution_count": 12,
     "metadata": {},
     "output_type": "execute_result"
    }
   ],
   "source": [
    "feats_imp = pd.DataFrame(data = grid.best_estimator_.feature_importances_, \n",
    "                         index = X.columns, \n",
    "                         columns = ['Feature Importance'])\n",
    "important_feats = feats_imp[feats_imp['Feature Importance'] > 0]\n",
    "important_features_list = important_feats.index.to_list()\n",
    "important_features_list"
   ]
  },
  {
   "cell_type": "markdown",
   "id": "13cf79b8-bb2c-4104-82d6-3d3fb0660dc8",
   "metadata": {},
   "source": [
    "# Final Random Forest model\n",
    "**with best HPT AND important features**"
   ]
  },
  {
   "cell_type": "code",
   "execution_count": 13,
   "id": "66e8059f-28dd-4ebf-b3b3-19a1f994e8f9",
   "metadata": {},
   "outputs": [
    {
     "name": "stdout",
     "output_type": "stream",
     "text": [
      "Train accuracy :  0.9690058479532164\n",
      "Test accuracy :  0.8808411214953271\n",
      "cross_val_score :  0.8769802359430059\n"
     ]
    }
   ],
   "source": [
    "X_imp = X[important_features_list]\n",
    "\n",
    "# Train_Test_Split\n",
    "X_train, X_test, y_train, y_test = train_test_split(X, y, test_size = 0.2, random_state = True)\n",
    "\n",
    "\n",
    "# Model with best HPT AND important features\n",
    "final_rf_model = RandomForestClassifier()\n",
    "final_rf_model.fit(X_train, y_train)\n",
    "\n",
    "# Prediction\n",
    "ypred_train = final_rf_model.predict(X_train)\n",
    "ypred_test = final_rf_model.predict(X_test)\n",
    "\n",
    "# Evaluation\n",
    "from sklearn.metrics import accuracy_score\n",
    "print(\"Train accuracy : \", accuracy_score(ypred_train, y_train))\n",
    "print(\"Test accuracy : \", accuracy_score(ypred_test, y_test))\n",
    "\n",
    "from sklearn.model_selection import cross_val_score\n",
    "print(\"cross_val_score : \", cross_val_score(model, X, y, cv=5).mean())"
   ]
  },
  {
   "cell_type": "code",
   "execution_count": null,
   "id": "43a750c5-694c-49e3-b798-1babc4a5e69b",
   "metadata": {},
   "outputs": [],
   "source": []
  }
 ],
 "metadata": {
  "kernelspec": {
   "display_name": "Python 3 (ipykernel)",
   "language": "python",
   "name": "python3"
  },
  "language_info": {
   "codemirror_mode": {
    "name": "ipython",
    "version": 3
   },
   "file_extension": ".py",
   "mimetype": "text/x-python",
   "name": "python",
   "nbconvert_exporter": "python",
   "pygments_lexer": "ipython3",
   "version": "3.12.4"
  }
 },
 "nbformat": 4,
 "nbformat_minor": 5
}
