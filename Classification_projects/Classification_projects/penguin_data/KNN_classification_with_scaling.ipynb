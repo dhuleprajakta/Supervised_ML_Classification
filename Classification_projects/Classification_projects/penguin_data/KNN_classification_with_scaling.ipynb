{
 "cells": [
  {
   "cell_type": "code",
   "execution_count": 14,
   "id": "d7ff4ae6-6742-4c13-a557-5ca039994701",
   "metadata": {},
   "outputs": [],
   "source": [
    "import pandas as pd \n",
    "import numpy as np\n",
    "\n",
    "import matplotlib.pyplot as plt\n",
    "import seaborn as sns\n",
    "\n",
    "import warnings\n",
    "warnings.simplefilter('ignore')"
   ]
  },
  {
   "cell_type": "code",
   "execution_count": 15,
   "id": "957c925f-2945-4d66-95c0-5b47c14425fb",
   "metadata": {},
   "outputs": [],
   "source": [
    "df = pd.read_csv(r\"E:\\Data Science by SRK\\Machine_learning\\Classification\\penguin_data\\cleaned_dataset_penguin.csv\")"
   ]
  },
  {
   "cell_type": "code",
   "execution_count": 16,
   "id": "b633df28-c728-496e-abe5-42ef467a764b",
   "metadata": {},
   "outputs": [
    {
     "data": {
      "text/html": [
       "<div>\n",
       "<style scoped>\n",
       "    .dataframe tbody tr th:only-of-type {\n",
       "        vertical-align: middle;\n",
       "    }\n",
       "\n",
       "    .dataframe tbody tr th {\n",
       "        vertical-align: top;\n",
       "    }\n",
       "\n",
       "    .dataframe thead th {\n",
       "        text-align: right;\n",
       "    }\n",
       "</style>\n",
       "<table border=\"1\" class=\"dataframe\">\n",
       "  <thead>\n",
       "    <tr style=\"text-align: right;\">\n",
       "      <th></th>\n",
       "      <th>species</th>\n",
       "      <th>culmen_length_mm</th>\n",
       "      <th>culmen_depth_mm</th>\n",
       "      <th>flipper_length_mm</th>\n",
       "      <th>body_mass_g</th>\n",
       "      <th>island_Dream</th>\n",
       "      <th>island_Torgersen</th>\n",
       "      <th>gender_MALE</th>\n",
       "    </tr>\n",
       "  </thead>\n",
       "  <tbody>\n",
       "    <tr>\n",
       "      <th>0</th>\n",
       "      <td>0</td>\n",
       "      <td>39.1</td>\n",
       "      <td>18.7</td>\n",
       "      <td>181.0</td>\n",
       "      <td>3750.0</td>\n",
       "      <td>False</td>\n",
       "      <td>True</td>\n",
       "      <td>True</td>\n",
       "    </tr>\n",
       "    <tr>\n",
       "      <th>1</th>\n",
       "      <td>0</td>\n",
       "      <td>39.5</td>\n",
       "      <td>17.4</td>\n",
       "      <td>186.0</td>\n",
       "      <td>3800.0</td>\n",
       "      <td>False</td>\n",
       "      <td>True</td>\n",
       "      <td>False</td>\n",
       "    </tr>\n",
       "    <tr>\n",
       "      <th>2</th>\n",
       "      <td>0</td>\n",
       "      <td>40.3</td>\n",
       "      <td>18.0</td>\n",
       "      <td>195.0</td>\n",
       "      <td>3250.0</td>\n",
       "      <td>False</td>\n",
       "      <td>True</td>\n",
       "      <td>False</td>\n",
       "    </tr>\n",
       "    <tr>\n",
       "      <th>3</th>\n",
       "      <td>0</td>\n",
       "      <td>36.7</td>\n",
       "      <td>19.3</td>\n",
       "      <td>193.0</td>\n",
       "      <td>3450.0</td>\n",
       "      <td>False</td>\n",
       "      <td>True</td>\n",
       "      <td>False</td>\n",
       "    </tr>\n",
       "    <tr>\n",
       "      <th>4</th>\n",
       "      <td>0</td>\n",
       "      <td>39.3</td>\n",
       "      <td>20.6</td>\n",
       "      <td>190.0</td>\n",
       "      <td>3650.0</td>\n",
       "      <td>False</td>\n",
       "      <td>True</td>\n",
       "      <td>True</td>\n",
       "    </tr>\n",
       "    <tr>\n",
       "      <th>...</th>\n",
       "      <td>...</td>\n",
       "      <td>...</td>\n",
       "      <td>...</td>\n",
       "      <td>...</td>\n",
       "      <td>...</td>\n",
       "      <td>...</td>\n",
       "      <td>...</td>\n",
       "      <td>...</td>\n",
       "    </tr>\n",
       "    <tr>\n",
       "      <th>329</th>\n",
       "      <td>2</td>\n",
       "      <td>47.2</td>\n",
       "      <td>13.7</td>\n",
       "      <td>214.0</td>\n",
       "      <td>4925.0</td>\n",
       "      <td>False</td>\n",
       "      <td>False</td>\n",
       "      <td>False</td>\n",
       "    </tr>\n",
       "    <tr>\n",
       "      <th>330</th>\n",
       "      <td>2</td>\n",
       "      <td>46.8</td>\n",
       "      <td>14.3</td>\n",
       "      <td>215.0</td>\n",
       "      <td>4850.0</td>\n",
       "      <td>False</td>\n",
       "      <td>False</td>\n",
       "      <td>False</td>\n",
       "    </tr>\n",
       "    <tr>\n",
       "      <th>331</th>\n",
       "      <td>2</td>\n",
       "      <td>50.4</td>\n",
       "      <td>15.7</td>\n",
       "      <td>222.0</td>\n",
       "      <td>5750.0</td>\n",
       "      <td>False</td>\n",
       "      <td>False</td>\n",
       "      <td>True</td>\n",
       "    </tr>\n",
       "    <tr>\n",
       "      <th>332</th>\n",
       "      <td>2</td>\n",
       "      <td>45.2</td>\n",
       "      <td>14.8</td>\n",
       "      <td>212.0</td>\n",
       "      <td>5200.0</td>\n",
       "      <td>False</td>\n",
       "      <td>False</td>\n",
       "      <td>False</td>\n",
       "    </tr>\n",
       "    <tr>\n",
       "      <th>333</th>\n",
       "      <td>2</td>\n",
       "      <td>49.9</td>\n",
       "      <td>16.1</td>\n",
       "      <td>213.0</td>\n",
       "      <td>5400.0</td>\n",
       "      <td>False</td>\n",
       "      <td>False</td>\n",
       "      <td>True</td>\n",
       "    </tr>\n",
       "  </tbody>\n",
       "</table>\n",
       "<p>334 rows × 8 columns</p>\n",
       "</div>"
      ],
      "text/plain": [
       "     species  culmen_length_mm  culmen_depth_mm  flipper_length_mm  \\\n",
       "0          0              39.1             18.7              181.0   \n",
       "1          0              39.5             17.4              186.0   \n",
       "2          0              40.3             18.0              195.0   \n",
       "3          0              36.7             19.3              193.0   \n",
       "4          0              39.3             20.6              190.0   \n",
       "..       ...               ...              ...                ...   \n",
       "329        2              47.2             13.7              214.0   \n",
       "330        2              46.8             14.3              215.0   \n",
       "331        2              50.4             15.7              222.0   \n",
       "332        2              45.2             14.8              212.0   \n",
       "333        2              49.9             16.1              213.0   \n",
       "\n",
       "     body_mass_g  island_Dream  island_Torgersen  gender_MALE  \n",
       "0         3750.0         False              True         True  \n",
       "1         3800.0         False              True        False  \n",
       "2         3250.0         False              True        False  \n",
       "3         3450.0         False              True        False  \n",
       "4         3650.0         False              True         True  \n",
       "..           ...           ...               ...          ...  \n",
       "329       4925.0         False             False        False  \n",
       "330       4850.0         False             False        False  \n",
       "331       5750.0         False             False         True  \n",
       "332       5200.0         False             False        False  \n",
       "333       5400.0         False             False         True  \n",
       "\n",
       "[334 rows x 8 columns]"
      ]
     },
     "execution_count": 16,
     "metadata": {},
     "output_type": "execute_result"
    }
   ],
   "source": [
    "df\n"
   ]
  },
  {
   "cell_type": "code",
   "execution_count": null,
   "id": "2b9dc0ec-e6c2-4bda-8990-b6f150c57057",
   "metadata": {},
   "outputs": [],
   "source": []
  },
  {
   "cell_type": "code",
   "execution_count": 17,
   "id": "c58e8703-e119-4784-afeb-d946400fb8a9",
   "metadata": {},
   "outputs": [
    {
     "name": "stdout",
     "output_type": "stream",
     "text": [
      "<class 'pandas.core.frame.DataFrame'>\n",
      "RangeIndex: 334 entries, 0 to 333\n",
      "Data columns (total 8 columns):\n",
      " #   Column             Non-Null Count  Dtype  \n",
      "---  ------             --------------  -----  \n",
      " 0   species            334 non-null    int64  \n",
      " 1   culmen_length_mm   334 non-null    float64\n",
      " 2   culmen_depth_mm    334 non-null    float64\n",
      " 3   flipper_length_mm  334 non-null    float64\n",
      " 4   body_mass_g        334 non-null    float64\n",
      " 5   island_Dream       334 non-null    bool   \n",
      " 6   island_Torgersen   334 non-null    bool   \n",
      " 7   gender_MALE        334 non-null    bool   \n",
      "dtypes: bool(3), float64(4), int64(1)\n",
      "memory usage: 14.2 KB\n"
     ]
    }
   ],
   "source": [
    "df.info()"
   ]
  },
  {
   "cell_type": "code",
   "execution_count": 18,
   "id": "582136df-f814-43b1-9f01-46201f2cf2f9",
   "metadata": {},
   "outputs": [
    {
     "data": {
      "text/plain": [
       "species              0\n",
       "culmen_length_mm     0\n",
       "culmen_depth_mm      0\n",
       "flipper_length_mm    0\n",
       "body_mass_g          0\n",
       "island_Dream         0\n",
       "island_Torgersen     0\n",
       "gender_MALE          0\n",
       "dtype: int64"
      ]
     },
     "execution_count": 18,
     "metadata": {},
     "output_type": "execute_result"
    }
   ],
   "source": [
    "df.isnull().sum()"
   ]
  },
  {
   "cell_type": "markdown",
   "id": "e4979e52-ed74-459b-95fd-ecea6ec439f9",
   "metadata": {},
   "source": [
    "# X & y"
   ]
  },
  {
   "cell_type": "code",
   "execution_count": 19,
   "id": "55e0c946-2973-4883-a14e-f53f9d5af75c",
   "metadata": {},
   "outputs": [],
   "source": [
    "X = df.drop(columns = ['species'])\n",
    "y = df['species']"
   ]
  },
  {
   "cell_type": "markdown",
   "id": "9e2ecebb-8a0c-46b3-84f4-0d554e57a72f",
   "metadata": {},
   "source": [
    "# Train_Test_split\n"
   ]
  },
  {
   "cell_type": "code",
   "execution_count": 20,
   "id": "9b6c4e73-70ce-41f8-b73d-086f2b31fadb",
   "metadata": {},
   "outputs": [],
   "source": [
    "from sklearn.model_selection import train_test_split\n",
    "X_train, X_test, y_train, y_test = train_test_split(X, y, test_size = 0.2, random_state = True)"
   ]
  },
  {
   "cell_type": "markdown",
   "id": "f04b17cd-966f-4b34-9f47-3b7774b86e56",
   "metadata": {},
   "source": [
    "# Scaling data"
   ]
  },
  {
   "cell_type": "code",
   "execution_count": 21,
   "id": "dcb7cc1e-55b6-4f7b-ae4c-35d6ae9a45c6",
   "metadata": {},
   "outputs": [],
   "source": [
    "from sklearn.preprocessing import StandardScaler\n",
    "scaler = StandardScaler()\n",
    "\n",
    "X_train.iloc[:, 1 : 5] = scaler.fit_transform(X_train.iloc[:, 1 : 5])\n",
    "X_test.iloc[:, 1 : 5] = scaler.transform(X_test.iloc[:, 1 : 5])"
   ]
  },
  {
   "cell_type": "markdown",
   "id": "acd96a0b-720d-4a3e-ae68-0752aa75ed57",
   "metadata": {},
   "source": [
    "# Hyper parameter tuning for KNN Classifier"
   ]
  },
  {
   "cell_type": "code",
   "execution_count": 22,
   "id": "71ac891a-c6c9-4b3f-8451-8988141b845b",
   "metadata": {},
   "outputs": [
    {
     "data": {
      "text/plain": [
       "{'n_neighbors': 1}"
      ]
     },
     "execution_count": 22,
     "metadata": {},
     "output_type": "execute_result"
    }
   ],
   "source": [
    "from sklearn.neighbors import KNeighborsClassifier\n",
    "estimator = KNeighborsClassifier()\n",
    "param_grid = {'n_neighbors' : list(range(1,100))}\n",
    "\n",
    "from sklearn.model_selection import GridSearchCV\n",
    "cv_classifier = GridSearchCV(estimator, param_grid, cv = 5, scoring = 'accuracy')\n",
    "\n",
    "cv_classifier.fit(X_train, y_train)\n",
    "\n",
    "cv_classifier.best_params_"
   ]
  },
  {
   "cell_type": "markdown",
   "id": "9da93967-e37f-49d3-831d-fd17ac9babc8",
   "metadata": {},
   "source": [
    "# KNN Model With Best Hyper parameters"
   ]
  },
  {
   "cell_type": "code",
   "execution_count": 23,
   "id": "fc2ab6c9-cb44-4152-b841-3527e7b1875e",
   "metadata": {},
   "outputs": [
    {
     "name": "stdout",
     "output_type": "stream",
     "text": [
      "Train accuracy :  1.0\n",
      "Test accuracy :  1.0\n",
      "Cross_val_score :  0.8535504296698327\n"
     ]
    }
   ],
   "source": [
    "from sklearn.neighbors import KNeighborsClassifier\n",
    "knn = KNeighborsClassifier(n_neighbors = 1)\n",
    "knn.fit(X_train, y_train)\n",
    "\n",
    "#prediction\n",
    "ypred_train = knn.predict(X_train)\n",
    "ypred_test = knn.predict(X_test)\n",
    "\n",
    "#Evaluation\n",
    "from sklearn.metrics import accuracy_score\n",
    "print(\"Train accuracy : \", accuracy_score(y_train, ypred_train))\n",
    "print(\"Test accuracy : \", accuracy_score(y_test, ypred_test))\n",
    "\n",
    "from sklearn.model_selection import cross_val_score\n",
    "print(\"Cross_val_score : \", cross_val_score(knn, X, y, cv= 5).mean())\n",
    "\n"
   ]
  },
  {
   "cell_type": "markdown",
   "id": "d780a763-3fca-4e43-9fe4-324c120147b4",
   "metadata": {},
   "source": [
    "# Confusion metrics"
   ]
  },
  {
   "cell_type": "code",
   "execution_count": 24,
   "id": "cc9cbee9-f0ab-4433-a5be-2dd306236d67",
   "metadata": {},
   "outputs": [
    {
     "data": {
      "text/plain": [
       "array([[28,  0,  0],\n",
       "       [ 0, 17,  0],\n",
       "       [ 0,  0, 22]], dtype=int64)"
      ]
     },
     "execution_count": 24,
     "metadata": {},
     "output_type": "execute_result"
    }
   ],
   "source": [
    "from sklearn.metrics import confusion_matrix\n",
    "confusion_matrix(y_test, ypred_test)"
   ]
  },
  {
   "cell_type": "code",
   "execution_count": 25,
   "id": "7884a998-1bf0-4685-af07-a5e00faa511a",
   "metadata": {},
   "outputs": [
    {
     "name": "stdout",
     "output_type": "stream",
     "text": [
      "              precision    recall  f1-score   support\n",
      "\n",
      "           0       1.00      1.00      1.00        28\n",
      "           1       1.00      1.00      1.00        17\n",
      "           2       1.00      1.00      1.00        22\n",
      "\n",
      "    accuracy                           1.00        67\n",
      "   macro avg       1.00      1.00      1.00        67\n",
      "weighted avg       1.00      1.00      1.00        67\n",
      "\n"
     ]
    }
   ],
   "source": [
    "from sklearn.metrics import classification_report\n",
    "print(classification_report(y_test, ypred_test))"
   ]
  },
  {
   "cell_type": "markdown",
   "id": "8d51ae51-7a86-4322-b8e9-3a6aaba03394",
   "metadata": {},
   "source": [
    "# Prediction new data"
   ]
  },
  {
   "cell_type": "markdown",
   "id": "b98813e9-9dd8-4383-a8f4-4e1653232636",
   "metadata": {},
   "source": [
    "# use KNN Model to predict new data"
   ]
  }
 ],
 "metadata": {
  "kernelspec": {
   "display_name": "Python 3 (ipykernel)",
   "language": "python",
   "name": "python3"
  },
  "language_info": {
   "codemirror_mode": {
    "name": "ipython",
    "version": 3
   },
   "file_extension": ".py",
   "mimetype": "text/x-python",
   "name": "python",
   "nbconvert_exporter": "python",
   "pygments_lexer": "ipython3",
   "version": "3.12.4"
  }
 },
 "nbformat": 4,
 "nbformat_minor": 5
}
