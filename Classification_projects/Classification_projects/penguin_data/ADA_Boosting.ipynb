{
 "cells": [
  {
   "cell_type": "code",
   "execution_count": 1,
   "id": "4ac109de-12f9-4798-9b1a-29827591ac99",
   "metadata": {},
   "outputs": [],
   "source": [
    "import pandas as pd\n",
    "import numpy as np\n",
    "import matplotlib.pyplot as plt\n",
    "import seaborn as sns\n",
    "\n",
    "import warnings \n",
    "warnings.simplefilter('ignore')"
   ]
  },
  {
   "cell_type": "code",
   "execution_count": 3,
   "id": "2bc5de6a-df8c-48fc-bd66-5c2b1fbd6157",
   "metadata": {},
   "outputs": [],
   "source": [
    "df = pd.read_csv(r\"E:\\Data Science by SRK\\Machine_learning\\Classification\\penguin_data\\cleaned_dataset_penguin.csv\")"
   ]
  },
  {
   "cell_type": "code",
   "execution_count": 4,
   "id": "00d74788-4d13-4563-8f55-70f440a7eb4f",
   "metadata": {},
   "outputs": [
    {
     "data": {
      "text/html": [
       "<div>\n",
       "<style scoped>\n",
       "    .dataframe tbody tr th:only-of-type {\n",
       "        vertical-align: middle;\n",
       "    }\n",
       "\n",
       "    .dataframe tbody tr th {\n",
       "        vertical-align: top;\n",
       "    }\n",
       "\n",
       "    .dataframe thead th {\n",
       "        text-align: right;\n",
       "    }\n",
       "</style>\n",
       "<table border=\"1\" class=\"dataframe\">\n",
       "  <thead>\n",
       "    <tr style=\"text-align: right;\">\n",
       "      <th></th>\n",
       "      <th>species</th>\n",
       "      <th>culmen_length_mm</th>\n",
       "      <th>culmen_depth_mm</th>\n",
       "      <th>flipper_length_mm</th>\n",
       "      <th>body_mass_g</th>\n",
       "      <th>island_Dream</th>\n",
       "      <th>island_Torgersen</th>\n",
       "      <th>gender_MALE</th>\n",
       "    </tr>\n",
       "  </thead>\n",
       "  <tbody>\n",
       "    <tr>\n",
       "      <th>0</th>\n",
       "      <td>0</td>\n",
       "      <td>39.1</td>\n",
       "      <td>18.7</td>\n",
       "      <td>181.0</td>\n",
       "      <td>3750.0</td>\n",
       "      <td>False</td>\n",
       "      <td>True</td>\n",
       "      <td>True</td>\n",
       "    </tr>\n",
       "    <tr>\n",
       "      <th>1</th>\n",
       "      <td>0</td>\n",
       "      <td>39.5</td>\n",
       "      <td>17.4</td>\n",
       "      <td>186.0</td>\n",
       "      <td>3800.0</td>\n",
       "      <td>False</td>\n",
       "      <td>True</td>\n",
       "      <td>False</td>\n",
       "    </tr>\n",
       "    <tr>\n",
       "      <th>2</th>\n",
       "      <td>0</td>\n",
       "      <td>40.3</td>\n",
       "      <td>18.0</td>\n",
       "      <td>195.0</td>\n",
       "      <td>3250.0</td>\n",
       "      <td>False</td>\n",
       "      <td>True</td>\n",
       "      <td>False</td>\n",
       "    </tr>\n",
       "    <tr>\n",
       "      <th>3</th>\n",
       "      <td>0</td>\n",
       "      <td>36.7</td>\n",
       "      <td>19.3</td>\n",
       "      <td>193.0</td>\n",
       "      <td>3450.0</td>\n",
       "      <td>False</td>\n",
       "      <td>True</td>\n",
       "      <td>False</td>\n",
       "    </tr>\n",
       "    <tr>\n",
       "      <th>4</th>\n",
       "      <td>0</td>\n",
       "      <td>39.3</td>\n",
       "      <td>20.6</td>\n",
       "      <td>190.0</td>\n",
       "      <td>3650.0</td>\n",
       "      <td>False</td>\n",
       "      <td>True</td>\n",
       "      <td>True</td>\n",
       "    </tr>\n",
       "    <tr>\n",
       "      <th>...</th>\n",
       "      <td>...</td>\n",
       "      <td>...</td>\n",
       "      <td>...</td>\n",
       "      <td>...</td>\n",
       "      <td>...</td>\n",
       "      <td>...</td>\n",
       "      <td>...</td>\n",
       "      <td>...</td>\n",
       "    </tr>\n",
       "    <tr>\n",
       "      <th>329</th>\n",
       "      <td>2</td>\n",
       "      <td>47.2</td>\n",
       "      <td>13.7</td>\n",
       "      <td>214.0</td>\n",
       "      <td>4925.0</td>\n",
       "      <td>False</td>\n",
       "      <td>False</td>\n",
       "      <td>False</td>\n",
       "    </tr>\n",
       "    <tr>\n",
       "      <th>330</th>\n",
       "      <td>2</td>\n",
       "      <td>46.8</td>\n",
       "      <td>14.3</td>\n",
       "      <td>215.0</td>\n",
       "      <td>4850.0</td>\n",
       "      <td>False</td>\n",
       "      <td>False</td>\n",
       "      <td>False</td>\n",
       "    </tr>\n",
       "    <tr>\n",
       "      <th>331</th>\n",
       "      <td>2</td>\n",
       "      <td>50.4</td>\n",
       "      <td>15.7</td>\n",
       "      <td>222.0</td>\n",
       "      <td>5750.0</td>\n",
       "      <td>False</td>\n",
       "      <td>False</td>\n",
       "      <td>True</td>\n",
       "    </tr>\n",
       "    <tr>\n",
       "      <th>332</th>\n",
       "      <td>2</td>\n",
       "      <td>45.2</td>\n",
       "      <td>14.8</td>\n",
       "      <td>212.0</td>\n",
       "      <td>5200.0</td>\n",
       "      <td>False</td>\n",
       "      <td>False</td>\n",
       "      <td>False</td>\n",
       "    </tr>\n",
       "    <tr>\n",
       "      <th>333</th>\n",
       "      <td>2</td>\n",
       "      <td>49.9</td>\n",
       "      <td>16.1</td>\n",
       "      <td>213.0</td>\n",
       "      <td>5400.0</td>\n",
       "      <td>False</td>\n",
       "      <td>False</td>\n",
       "      <td>True</td>\n",
       "    </tr>\n",
       "  </tbody>\n",
       "</table>\n",
       "<p>334 rows × 8 columns</p>\n",
       "</div>"
      ],
      "text/plain": [
       "     species  culmen_length_mm  culmen_depth_mm  flipper_length_mm  \\\n",
       "0          0              39.1             18.7              181.0   \n",
       "1          0              39.5             17.4              186.0   \n",
       "2          0              40.3             18.0              195.0   \n",
       "3          0              36.7             19.3              193.0   \n",
       "4          0              39.3             20.6              190.0   \n",
       "..       ...               ...              ...                ...   \n",
       "329        2              47.2             13.7              214.0   \n",
       "330        2              46.8             14.3              215.0   \n",
       "331        2              50.4             15.7              222.0   \n",
       "332        2              45.2             14.8              212.0   \n",
       "333        2              49.9             16.1              213.0   \n",
       "\n",
       "     body_mass_g  island_Dream  island_Torgersen  gender_MALE  \n",
       "0         3750.0         False              True         True  \n",
       "1         3800.0         False              True        False  \n",
       "2         3250.0         False              True        False  \n",
       "3         3450.0         False              True        False  \n",
       "4         3650.0         False              True         True  \n",
       "..           ...           ...               ...          ...  \n",
       "329       4925.0         False             False        False  \n",
       "330       4850.0         False             False        False  \n",
       "331       5750.0         False             False         True  \n",
       "332       5200.0         False             False        False  \n",
       "333       5400.0         False             False         True  \n",
       "\n",
       "[334 rows x 8 columns]"
      ]
     },
     "execution_count": 4,
     "metadata": {},
     "output_type": "execute_result"
    }
   ],
   "source": [
    "df"
   ]
  },
  {
   "cell_type": "code",
   "execution_count": 5,
   "id": "46023dc8-f881-4849-8976-ddd62efc1212",
   "metadata": {},
   "outputs": [
    {
     "name": "stdout",
     "output_type": "stream",
     "text": [
      "<class 'pandas.core.frame.DataFrame'>\n",
      "RangeIndex: 334 entries, 0 to 333\n",
      "Data columns (total 8 columns):\n",
      " #   Column             Non-Null Count  Dtype  \n",
      "---  ------             --------------  -----  \n",
      " 0   species            334 non-null    int64  \n",
      " 1   culmen_length_mm   334 non-null    float64\n",
      " 2   culmen_depth_mm    334 non-null    float64\n",
      " 3   flipper_length_mm  334 non-null    float64\n",
      " 4   body_mass_g        334 non-null    float64\n",
      " 5   island_Dream       334 non-null    bool   \n",
      " 6   island_Torgersen   334 non-null    bool   \n",
      " 7   gender_MALE        334 non-null    bool   \n",
      "dtypes: bool(3), float64(4), int64(1)\n",
      "memory usage: 14.2 KB\n"
     ]
    }
   ],
   "source": [
    "df.info()"
   ]
  },
  {
   "cell_type": "code",
   "execution_count": 6,
   "id": "0a4ea003-bf40-439f-b9cf-463ad5635f0c",
   "metadata": {},
   "outputs": [
    {
     "data": {
      "text/plain": [
       "species              0\n",
       "culmen_length_mm     0\n",
       "culmen_depth_mm      0\n",
       "flipper_length_mm    0\n",
       "body_mass_g          0\n",
       "island_Dream         0\n",
       "island_Torgersen     0\n",
       "gender_MALE          0\n",
       "dtype: int64"
      ]
     },
     "execution_count": 6,
     "metadata": {},
     "output_type": "execute_result"
    }
   ],
   "source": [
    "df.isnull().sum()"
   ]
  },
  {
   "cell_type": "markdown",
   "id": "f427817b-7014-4210-9343-ad3f72928ba5",
   "metadata": {},
   "source": [
    "# X and y"
   ]
  },
  {
   "cell_type": "code",
   "execution_count": 7,
   "id": "fb56b246-e93c-48d2-b50e-0128c6e1d52a",
   "metadata": {},
   "outputs": [],
   "source": [
    "X = df.drop(columns = ['species'])\n",
    "y = df['species']"
   ]
  },
  {
   "cell_type": "markdown",
   "id": "0c19e37c-0748-4f40-8b7e-1d3df2e98101",
   "metadata": {},
   "source": [
    "# Train_test_split"
   ]
  },
  {
   "cell_type": "code",
   "execution_count": 8,
   "id": "40efb4e8-963f-4b0f-aa22-bdfc1ae5be4e",
   "metadata": {},
   "outputs": [],
   "source": [
    "from sklearn.model_selection import train_test_split\n",
    "\n",
    "X_train, X_test, y_train, y_test = train_test_split(X, y, test_size = 0.2, random_state= True)"
   ]
  },
  {
   "cell_type": "markdown",
   "id": "12acbc02-ef28-428f-ad1a-9982c2439a33",
   "metadata": {},
   "source": [
    "# ADABOOST\n",
    "**Applying Hyperparameter Tuning for identifying best parameters for adaboost**"
   ]
  },
  {
   "cell_type": "code",
   "execution_count": 9,
   "id": "58afb5a4-fd81-4fd0-8514-fa669e8d771f",
   "metadata": {},
   "outputs": [
    {
     "data": {
      "text/plain": [
       "{'n_estimators': 6}"
      ]
     },
     "execution_count": 9,
     "metadata": {},
     "output_type": "execute_result"
    }
   ],
   "source": [
    "from sklearn.model_selection import GridSearchCV\n",
    "\n",
    "# modelling\n",
    "\n",
    "from sklearn.ensemble import AdaBoostClassifier\n",
    "estimator_ab = AdaBoostClassifier()\n",
    "\n",
    "# parameters grid\n",
    "param_grid_ab = {\"n_estimators\" : list(range(1,100))}\n",
    "\n",
    "# grid search\n",
    "grid_ab = GridSearchCV(estimator_ab, param_grid_ab, cv = 5, scoring = 'accuracy')\n",
    "grid_ab.fit(X_train, y_train)\n",
    "\n",
    "# best parameters for adaboost model\n",
    "grid_ab.best_params_"
   ]
  },
  {
   "cell_type": "markdown",
   "id": "9bc14fbd-80b4-44ed-83de-f46d17a6ebbb",
   "metadata": {},
   "source": [
    "# ADA Boost model important features"
   ]
  },
  {
   "cell_type": "code",
   "execution_count": 10,
   "id": "2ea1253d-ec3c-4831-95aa-d809e45c0667",
   "metadata": {},
   "outputs": [
    {
     "data": {
      "text/plain": [
       "['culmen_depth_mm', 'flipper_length_mm', 'body_mass_g']"
      ]
     },
     "execution_count": 10,
     "metadata": {},
     "output_type": "execute_result"
    }
   ],
   "source": [
    "feats_ab = pd.DataFrame(data = grid_ab.best_estimator_.feature_importances_,\n",
    "                       index = X.columns, \n",
    "                       columns = ['Importance'])\n",
    "imp_features_list_ab = feats_ab[feats_ab['Importance']>0].index.to_list()\n",
    "imp_features_list_ab"
   ]
  },
  {
   "cell_type": "markdown",
   "id": "37789663-cc99-4c74-be0c-a47219b1de62",
   "metadata": {},
   "source": [
    "# ADABoost Classifier\n",
    "\n",
    "**with imortant features and best hyperparameters**"
   ]
  },
  {
   "cell_type": "code",
   "execution_count": 11,
   "id": "3479ceb2-238e-4cd9-9189-d98ecd6908ab",
   "metadata": {},
   "outputs": [
    {
     "name": "stdout",
     "output_type": "stream",
     "text": [
      "Train_accuracy :  0.8202247191011236\n",
      "cross_val_score :  0.7976939203354299\n",
      "Test_accuracy :  0.746268656716418\n"
     ]
    }
   ],
   "source": [
    "# important input variables\n",
    "X_imp = X[imp_features_list_ab]\n",
    "\n",
    "# train test split\n",
    "X_train_ab, X_test_ab, y_train_ab, y_test_ab = train_test_split(X_imp, y, test_size = 0.2, random_state = True)\n",
    "\n",
    "# modelling\n",
    "from sklearn.ensemble import AdaBoostClassifier\n",
    "ada = AdaBoostClassifier(n_estimators= 6)\n",
    "ada.fit(X_train_ab, y_train_ab)\n",
    "\n",
    "# Evaluation on train data\n",
    "ypred_train_ab = ada.predict(X_train_ab)\n",
    "\n",
    "from sklearn.metrics import accuracy_score\n",
    "print(\"Train_accuracy : \", accuracy_score(y_train_ab, ypred_train_ab))\n",
    "\n",
    "# cross validation\n",
    "from sklearn.model_selection import cross_val_score\n",
    "print(\"cross_val_score : \", cross_val_score(ada, X_train_ab, y_train_ab, cv = 5).mean())\n",
    "\n",
    "# Evaluation\n",
    "ypred_test_ab = ada.predict(X_test_ab)\n",
    "print(\"Test_accuracy : \", accuracy_score(y_test_ab, ypred_test_ab))\n"
   ]
  }
 ],
 "metadata": {
  "kernelspec": {
   "display_name": "Python 3 (ipykernel)",
   "language": "python",
   "name": "python3"
  },
  "language_info": {
   "codemirror_mode": {
    "name": "ipython",
    "version": 3
   },
   "file_extension": ".py",
   "mimetype": "text/x-python",
   "name": "python",
   "nbconvert_exporter": "python",
   "pygments_lexer": "ipython3",
   "version": "3.12.4"
  }
 },
 "nbformat": 4,
 "nbformat_minor": 5
}
