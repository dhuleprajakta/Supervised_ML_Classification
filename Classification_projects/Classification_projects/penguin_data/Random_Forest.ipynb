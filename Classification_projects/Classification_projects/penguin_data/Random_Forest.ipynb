{
 "cells": [
  {
   "cell_type": "code",
   "execution_count": 22,
   "id": "d9730e8e-b0b5-49fd-b57b-249111a744c6",
   "metadata": {},
   "outputs": [],
   "source": [
    "import pandas as pd \n",
    "import numpy as np\n",
    "\n",
    "import warnings\n",
    "warnings.simplefilter('ignore')"
   ]
  },
  {
   "cell_type": "code",
   "execution_count": 23,
   "id": "f324fb16-833c-4fca-9a5c-3b263727dc46",
   "metadata": {},
   "outputs": [],
   "source": [
    "df = pd.read_csv(r\"E:\\Data Science by SRK\\Machine_learning\\Classification\\penguin_data\\cleaned_dataset_penguin.csv\")"
   ]
  },
  {
   "cell_type": "code",
   "execution_count": 24,
   "id": "739f04da-8f51-4381-b2c5-bdb8892de812",
   "metadata": {},
   "outputs": [
    {
     "data": {
      "text/html": [
       "<div>\n",
       "<style scoped>\n",
       "    .dataframe tbody tr th:only-of-type {\n",
       "        vertical-align: middle;\n",
       "    }\n",
       "\n",
       "    .dataframe tbody tr th {\n",
       "        vertical-align: top;\n",
       "    }\n",
       "\n",
       "    .dataframe thead th {\n",
       "        text-align: right;\n",
       "    }\n",
       "</style>\n",
       "<table border=\"1\" class=\"dataframe\">\n",
       "  <thead>\n",
       "    <tr style=\"text-align: right;\">\n",
       "      <th></th>\n",
       "      <th>species</th>\n",
       "      <th>culmen_length_mm</th>\n",
       "      <th>culmen_depth_mm</th>\n",
       "      <th>flipper_length_mm</th>\n",
       "      <th>body_mass_g</th>\n",
       "      <th>island_Dream</th>\n",
       "      <th>island_Torgersen</th>\n",
       "      <th>gender_MALE</th>\n",
       "    </tr>\n",
       "  </thead>\n",
       "  <tbody>\n",
       "    <tr>\n",
       "      <th>0</th>\n",
       "      <td>0</td>\n",
       "      <td>39.1</td>\n",
       "      <td>18.7</td>\n",
       "      <td>181.0</td>\n",
       "      <td>3750.0</td>\n",
       "      <td>False</td>\n",
       "      <td>True</td>\n",
       "      <td>True</td>\n",
       "    </tr>\n",
       "    <tr>\n",
       "      <th>1</th>\n",
       "      <td>0</td>\n",
       "      <td>39.5</td>\n",
       "      <td>17.4</td>\n",
       "      <td>186.0</td>\n",
       "      <td>3800.0</td>\n",
       "      <td>False</td>\n",
       "      <td>True</td>\n",
       "      <td>False</td>\n",
       "    </tr>\n",
       "    <tr>\n",
       "      <th>2</th>\n",
       "      <td>0</td>\n",
       "      <td>40.3</td>\n",
       "      <td>18.0</td>\n",
       "      <td>195.0</td>\n",
       "      <td>3250.0</td>\n",
       "      <td>False</td>\n",
       "      <td>True</td>\n",
       "      <td>False</td>\n",
       "    </tr>\n",
       "    <tr>\n",
       "      <th>3</th>\n",
       "      <td>0</td>\n",
       "      <td>36.7</td>\n",
       "      <td>19.3</td>\n",
       "      <td>193.0</td>\n",
       "      <td>3450.0</td>\n",
       "      <td>False</td>\n",
       "      <td>True</td>\n",
       "      <td>False</td>\n",
       "    </tr>\n",
       "    <tr>\n",
       "      <th>4</th>\n",
       "      <td>0</td>\n",
       "      <td>39.3</td>\n",
       "      <td>20.6</td>\n",
       "      <td>190.0</td>\n",
       "      <td>3650.0</td>\n",
       "      <td>False</td>\n",
       "      <td>True</td>\n",
       "      <td>True</td>\n",
       "    </tr>\n",
       "    <tr>\n",
       "      <th>...</th>\n",
       "      <td>...</td>\n",
       "      <td>...</td>\n",
       "      <td>...</td>\n",
       "      <td>...</td>\n",
       "      <td>...</td>\n",
       "      <td>...</td>\n",
       "      <td>...</td>\n",
       "      <td>...</td>\n",
       "    </tr>\n",
       "    <tr>\n",
       "      <th>329</th>\n",
       "      <td>2</td>\n",
       "      <td>47.2</td>\n",
       "      <td>13.7</td>\n",
       "      <td>214.0</td>\n",
       "      <td>4925.0</td>\n",
       "      <td>False</td>\n",
       "      <td>False</td>\n",
       "      <td>False</td>\n",
       "    </tr>\n",
       "    <tr>\n",
       "      <th>330</th>\n",
       "      <td>2</td>\n",
       "      <td>46.8</td>\n",
       "      <td>14.3</td>\n",
       "      <td>215.0</td>\n",
       "      <td>4850.0</td>\n",
       "      <td>False</td>\n",
       "      <td>False</td>\n",
       "      <td>False</td>\n",
       "    </tr>\n",
       "    <tr>\n",
       "      <th>331</th>\n",
       "      <td>2</td>\n",
       "      <td>50.4</td>\n",
       "      <td>15.7</td>\n",
       "      <td>222.0</td>\n",
       "      <td>5750.0</td>\n",
       "      <td>False</td>\n",
       "      <td>False</td>\n",
       "      <td>True</td>\n",
       "    </tr>\n",
       "    <tr>\n",
       "      <th>332</th>\n",
       "      <td>2</td>\n",
       "      <td>45.2</td>\n",
       "      <td>14.8</td>\n",
       "      <td>212.0</td>\n",
       "      <td>5200.0</td>\n",
       "      <td>False</td>\n",
       "      <td>False</td>\n",
       "      <td>False</td>\n",
       "    </tr>\n",
       "    <tr>\n",
       "      <th>333</th>\n",
       "      <td>2</td>\n",
       "      <td>49.9</td>\n",
       "      <td>16.1</td>\n",
       "      <td>213.0</td>\n",
       "      <td>5400.0</td>\n",
       "      <td>False</td>\n",
       "      <td>False</td>\n",
       "      <td>True</td>\n",
       "    </tr>\n",
       "  </tbody>\n",
       "</table>\n",
       "<p>334 rows × 8 columns</p>\n",
       "</div>"
      ],
      "text/plain": [
       "     species  culmen_length_mm  culmen_depth_mm  flipper_length_mm  \\\n",
       "0          0              39.1             18.7              181.0   \n",
       "1          0              39.5             17.4              186.0   \n",
       "2          0              40.3             18.0              195.0   \n",
       "3          0              36.7             19.3              193.0   \n",
       "4          0              39.3             20.6              190.0   \n",
       "..       ...               ...              ...                ...   \n",
       "329        2              47.2             13.7              214.0   \n",
       "330        2              46.8             14.3              215.0   \n",
       "331        2              50.4             15.7              222.0   \n",
       "332        2              45.2             14.8              212.0   \n",
       "333        2              49.9             16.1              213.0   \n",
       "\n",
       "     body_mass_g  island_Dream  island_Torgersen  gender_MALE  \n",
       "0         3750.0         False              True         True  \n",
       "1         3800.0         False              True        False  \n",
       "2         3250.0         False              True        False  \n",
       "3         3450.0         False              True        False  \n",
       "4         3650.0         False              True         True  \n",
       "..           ...           ...               ...          ...  \n",
       "329       4925.0         False             False        False  \n",
       "330       4850.0         False             False        False  \n",
       "331       5750.0         False             False         True  \n",
       "332       5200.0         False             False        False  \n",
       "333       5400.0         False             False         True  \n",
       "\n",
       "[334 rows x 8 columns]"
      ]
     },
     "execution_count": 24,
     "metadata": {},
     "output_type": "execute_result"
    }
   ],
   "source": [
    "df"
   ]
  },
  {
   "cell_type": "code",
   "execution_count": 25,
   "id": "622bca22-08e5-4345-a162-9e2c9263bf00",
   "metadata": {},
   "outputs": [
    {
     "name": "stdout",
     "output_type": "stream",
     "text": [
      "<class 'pandas.core.frame.DataFrame'>\n",
      "RangeIndex: 334 entries, 0 to 333\n",
      "Data columns (total 8 columns):\n",
      " #   Column             Non-Null Count  Dtype  \n",
      "---  ------             --------------  -----  \n",
      " 0   species            334 non-null    int64  \n",
      " 1   culmen_length_mm   334 non-null    float64\n",
      " 2   culmen_depth_mm    334 non-null    float64\n",
      " 3   flipper_length_mm  334 non-null    float64\n",
      " 4   body_mass_g        334 non-null    float64\n",
      " 5   island_Dream       334 non-null    bool   \n",
      " 6   island_Torgersen   334 non-null    bool   \n",
      " 7   gender_MALE        334 non-null    bool   \n",
      "dtypes: bool(3), float64(4), int64(1)\n",
      "memory usage: 14.2 KB\n"
     ]
    }
   ],
   "source": [
    "df.info()"
   ]
  },
  {
   "cell_type": "code",
   "execution_count": 26,
   "id": "25a9ad76-4f72-48c2-b67b-2fdf3257fb13",
   "metadata": {},
   "outputs": [
    {
     "data": {
      "text/plain": [
       "species              0\n",
       "culmen_length_mm     0\n",
       "culmen_depth_mm      0\n",
       "flipper_length_mm    0\n",
       "body_mass_g          0\n",
       "island_Dream         0\n",
       "island_Torgersen     0\n",
       "gender_MALE          0\n",
       "dtype: int64"
      ]
     },
     "execution_count": 26,
     "metadata": {},
     "output_type": "execute_result"
    }
   ],
   "source": [
    "df.isnull().sum()"
   ]
  },
  {
   "cell_type": "markdown",
   "id": "4c20781e-38b7-480b-adc5-556c7164b9d5",
   "metadata": {},
   "source": [
    "# X and y"
   ]
  },
  {
   "cell_type": "code",
   "execution_count": 27,
   "id": "aff6fe11-9bf3-45b0-989b-a499ffbc0ee2",
   "metadata": {},
   "outputs": [],
   "source": [
    "X = pd.get_dummies(df.drop('species', axis = 1), drop_first = True)\n",
    "y = df['species']"
   ]
  },
  {
   "cell_type": "markdown",
   "id": "c2d8c6f1-2b7b-4589-854e-0c79a67c5b26",
   "metadata": {},
   "source": [
    "# Train_Test_split"
   ]
  },
  {
   "cell_type": "code",
   "execution_count": 28,
   "id": "fccc4b3d-845c-4d82-9fb2-91b4bd76d021",
   "metadata": {},
   "outputs": [],
   "source": [
    "from sklearn.model_selection import train_test_split\n",
    "X_train, X_test, y_train, y_test = train_test_split(X, y, test_size = 0.2, random_state = True)"
   ]
  },
  {
   "cell_type": "markdown",
   "id": "7f9a56db-8bb4-498b-9d8d-467eb471ed18",
   "metadata": {},
   "source": [
    "# Modelling and Evaluation"
   ]
  },
  {
   "cell_type": "code",
   "execution_count": 30,
   "id": "df70c734-3097-4389-8ded-4f6f1eaf808a",
   "metadata": {},
   "outputs": [
    {
     "name": "stdout",
     "output_type": "stream",
     "text": [
      "Train accuracy :  1.0\n",
      "Test accuracy :  0.9850746268656716\n",
      "cross_val_score :  0.991044776119403\n"
     ]
    }
   ],
   "source": [
    "# Random Forest classifire with default parameters\n",
    "from sklearn.ensemble import RandomForestClassifier\n",
    "model = RandomForestClassifier(random_state = True)\n",
    "model.fit(X_train, y_train)\n",
    "\n",
    "# Prediction\n",
    "ypred_train = model.predict(X_train)\n",
    "ypred_test = model.predict(X_test)\n",
    "\n",
    "# Evaluation\n",
    "from sklearn.metrics import accuracy_score\n",
    "print(\"Train accuracy : \", accuracy_score(ypred_train, y_train))\n",
    "print(\"Test accuracy : \", accuracy_score(ypred_test, y_test))\n",
    "\n",
    "from sklearn.model_selection import cross_val_score\n",
    "print(\"cross_val_score : \", cross_val_score(model, X, y, cv=5).mean())"
   ]
  },
  {
   "cell_type": "markdown",
   "id": "97333364-11d5-414b-a5b0-d514972a0f2b",
   "metadata": {},
   "source": [
    "# Hyper_parameter Tuning"
   ]
  },
  {
   "cell_type": "code",
   "execution_count": 31,
   "id": "bde39ded-14c0-4f14-aae8-3160684b47a8",
   "metadata": {},
   "outputs": [
    {
     "data": {
      "text/plain": [
       "{'n_estimators': 8}"
      ]
     },
     "execution_count": 31,
     "metadata": {},
     "output_type": "execute_result"
    }
   ],
   "source": [
    "from sklearn.model_selection import GridSearchCV\n",
    "\n",
    "# model\n",
    "estimator = RandomForestClassifier(random_state = True)\n",
    "\n",
    "# Parameters (which you want to tune and identify the best)\n",
    "param_grid = {\"n_estimators\" : list(range(1, 10))}\n",
    "\n",
    "grid = GridSearchCV(estimator, param_grid, scoring = 'accuracy', cv= 5)\n",
    "\n",
    "grid.fit(X_train, y_train)\n",
    "\n",
    "grid.best_params_"
   ]
  },
  {
   "cell_type": "markdown",
   "id": "39d327bd-b588-40c7-a93b-a0006ee714d9",
   "metadata": {},
   "source": [
    "# Importance of each features"
   ]
  },
  {
   "cell_type": "code",
   "execution_count": 34,
   "id": "1ff4e42a-5ed4-4686-8b2e-ceffac495712",
   "metadata": {},
   "outputs": [
    {
     "data": {
      "text/plain": [
       "array([0.23407027, 0.1931781 , 0.28195195, 0.12682326, 0.12523007,\n",
       "       0.0341873 , 0.00455905])"
      ]
     },
     "execution_count": 34,
     "metadata": {},
     "output_type": "execute_result"
    }
   ],
   "source": [
    "grid.best_estimator_.feature_importances_\n"
   ]
  },
  {
   "cell_type": "code",
   "execution_count": 37,
   "id": "e0fbfb39-24ea-4294-946e-71f909c461ef",
   "metadata": {},
   "outputs": [
    {
     "data": {
      "text/plain": [
       "['culmen_length_mm',\n",
       " 'culmen_depth_mm',\n",
       " 'flipper_length_mm',\n",
       " 'body_mass_g',\n",
       " 'island_Dream',\n",
       " 'island_Torgersen',\n",
       " 'gender_MALE']"
      ]
     },
     "execution_count": 37,
     "metadata": {},
     "output_type": "execute_result"
    }
   ],
   "source": [
    "feats_imp = pd.DataFrame(data = grid.best_estimator_.feature_importances_, \n",
    "                         index = X.columns, \n",
    "                         columns = ['Feature Importance'])\n",
    "important_feats = feats_imp[feats_imp['Feature Importance'] > 0]\n",
    "important_features_list = important_feats.index.to_list()\n",
    "important_features_list"
   ]
  },
  {
   "cell_type": "markdown",
   "id": "13cf79b8-bb2c-4104-82d6-3d3fb0660dc8",
   "metadata": {},
   "source": [
    "# Final Random Forest model\n",
    "**with best HPT AND important features**"
   ]
  },
  {
   "cell_type": "code",
   "execution_count": 39,
   "id": "66e8059f-28dd-4ebf-b3b3-19a1f994e8f9",
   "metadata": {},
   "outputs": [
    {
     "name": "stdout",
     "output_type": "stream",
     "text": [
      "Train accuracy :  1.0\n",
      "Test accuracy :  1.0\n",
      "cross_val_score :  0.991044776119403\n"
     ]
    }
   ],
   "source": [
    "X_imp = X[important_features_list]\n",
    "\n",
    "# Train_Test_Split\n",
    "X_train, X_test, y_train, y_test = train_test_split(X, y, test_size = 0.2, random_state = True)\n",
    "\n",
    "\n",
    "# Model with best HPT AND important features\n",
    "final_rf_model = RandomForestClassifier()\n",
    "final_rf_model.fit(X_train, y_train)\n",
    "\n",
    "# Prediction\n",
    "ypred_train = final_rf_model.predict(X_train)\n",
    "ypred_test = final_rf_model.predict(X_test)\n",
    "\n",
    "# Evaluation\n",
    "from sklearn.metrics import accuracy_score\n",
    "print(\"Train accuracy : \", accuracy_score(ypred_train, y_train))\n",
    "print(\"Test accuracy : \", accuracy_score(ypred_test, y_test))\n",
    "\n",
    "from sklearn.model_selection import cross_val_score\n",
    "print(\"cross_val_score : \", cross_val_score(model, X, y, cv=5).mean())"
   ]
  },
  {
   "cell_type": "code",
   "execution_count": null,
   "id": "43a750c5-694c-49e3-b798-1babc4a5e69b",
   "metadata": {},
   "outputs": [],
   "source": []
  }
 ],
 "metadata": {
  "kernelspec": {
   "display_name": "Python 3 (ipykernel)",
   "language": "python",
   "name": "python3"
  },
  "language_info": {
   "codemirror_mode": {
    "name": "ipython",
    "version": 3
   },
   "file_extension": ".py",
   "mimetype": "text/x-python",
   "name": "python",
   "nbconvert_exporter": "python",
   "pygments_lexer": "ipython3",
   "version": "3.12.4"
  }
 },
 "nbformat": 4,
 "nbformat_minor": 5
}
