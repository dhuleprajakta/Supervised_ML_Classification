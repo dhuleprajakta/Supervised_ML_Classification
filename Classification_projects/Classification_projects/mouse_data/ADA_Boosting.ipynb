{
 "cells": [
  {
   "cell_type": "code",
   "execution_count": 1,
   "id": "4ac109de-12f9-4798-9b1a-29827591ac99",
   "metadata": {},
   "outputs": [],
   "source": [
    "import pandas as pd\n",
    "import numpy as np\n",
    "import matplotlib.pyplot as plt\n",
    "import seaborn as sns\n",
    "\n",
    "import warnings \n",
    "warnings.simplefilter('ignore')"
   ]
  },
  {
   "cell_type": "code",
   "execution_count": 2,
   "id": "2bc5de6a-df8c-48fc-bd66-5c2b1fbd6157",
   "metadata": {},
   "outputs": [],
   "source": [
    "df = pd.read_csv(r\"E:\\Data Science by SRK\\Machine_learning\\Classification\\mouse_data\\cleaned_dataset_mouse.csv\")"
   ]
  },
  {
   "cell_type": "code",
   "execution_count": 3,
   "id": "00d74788-4d13-4563-8f55-70f440a7eb4f",
   "metadata": {},
   "outputs": [
    {
     "data": {
      "text/html": [
       "<div>\n",
       "<style scoped>\n",
       "    .dataframe tbody tr th:only-of-type {\n",
       "        vertical-align: middle;\n",
       "    }\n",
       "\n",
       "    .dataframe tbody tr th {\n",
       "        vertical-align: top;\n",
       "    }\n",
       "\n",
       "    .dataframe thead th {\n",
       "        text-align: right;\n",
       "    }\n",
       "</style>\n",
       "<table border=\"1\" class=\"dataframe\">\n",
       "  <thead>\n",
       "    <tr style=\"text-align: right;\">\n",
       "      <th></th>\n",
       "      <th>Med_1_mL</th>\n",
       "      <th>Med_2_mL</th>\n",
       "      <th>Virus_Present</th>\n",
       "    </tr>\n",
       "  </thead>\n",
       "  <tbody>\n",
       "    <tr>\n",
       "      <th>0</th>\n",
       "      <td>6.508231</td>\n",
       "      <td>8.582531</td>\n",
       "      <td>0</td>\n",
       "    </tr>\n",
       "    <tr>\n",
       "      <th>1</th>\n",
       "      <td>4.126116</td>\n",
       "      <td>3.073459</td>\n",
       "      <td>1</td>\n",
       "    </tr>\n",
       "    <tr>\n",
       "      <th>2</th>\n",
       "      <td>6.427870</td>\n",
       "      <td>6.369758</td>\n",
       "      <td>0</td>\n",
       "    </tr>\n",
       "    <tr>\n",
       "      <th>3</th>\n",
       "      <td>3.672953</td>\n",
       "      <td>4.905215</td>\n",
       "      <td>1</td>\n",
       "    </tr>\n",
       "    <tr>\n",
       "      <th>4</th>\n",
       "      <td>1.580321</td>\n",
       "      <td>2.440562</td>\n",
       "      <td>1</td>\n",
       "    </tr>\n",
       "    <tr>\n",
       "      <th>...</th>\n",
       "      <td>...</td>\n",
       "      <td>...</td>\n",
       "      <td>...</td>\n",
       "    </tr>\n",
       "    <tr>\n",
       "      <th>395</th>\n",
       "      <td>2.884122</td>\n",
       "      <td>3.271748</td>\n",
       "      <td>1</td>\n",
       "    </tr>\n",
       "    <tr>\n",
       "      <th>396</th>\n",
       "      <td>7.290855</td>\n",
       "      <td>9.488672</td>\n",
       "      <td>0</td>\n",
       "    </tr>\n",
       "    <tr>\n",
       "      <th>397</th>\n",
       "      <td>7.895325</td>\n",
       "      <td>8.272529</td>\n",
       "      <td>0</td>\n",
       "    </tr>\n",
       "    <tr>\n",
       "      <th>398</th>\n",
       "      <td>2.690592</td>\n",
       "      <td>2.674979</td>\n",
       "      <td>1</td>\n",
       "    </tr>\n",
       "    <tr>\n",
       "      <th>399</th>\n",
       "      <td>7.587821</td>\n",
       "      <td>9.473968</td>\n",
       "      <td>0</td>\n",
       "    </tr>\n",
       "  </tbody>\n",
       "</table>\n",
       "<p>400 rows × 3 columns</p>\n",
       "</div>"
      ],
      "text/plain": [
       "     Med_1_mL  Med_2_mL  Virus_Present\n",
       "0    6.508231  8.582531              0\n",
       "1    4.126116  3.073459              1\n",
       "2    6.427870  6.369758              0\n",
       "3    3.672953  4.905215              1\n",
       "4    1.580321  2.440562              1\n",
       "..        ...       ...            ...\n",
       "395  2.884122  3.271748              1\n",
       "396  7.290855  9.488672              0\n",
       "397  7.895325  8.272529              0\n",
       "398  2.690592  2.674979              1\n",
       "399  7.587821  9.473968              0\n",
       "\n",
       "[400 rows x 3 columns]"
      ]
     },
     "execution_count": 3,
     "metadata": {},
     "output_type": "execute_result"
    }
   ],
   "source": [
    "df"
   ]
  },
  {
   "cell_type": "code",
   "execution_count": 4,
   "id": "46023dc8-f881-4849-8976-ddd62efc1212",
   "metadata": {},
   "outputs": [
    {
     "name": "stdout",
     "output_type": "stream",
     "text": [
      "<class 'pandas.core.frame.DataFrame'>\n",
      "RangeIndex: 400 entries, 0 to 399\n",
      "Data columns (total 3 columns):\n",
      " #   Column         Non-Null Count  Dtype  \n",
      "---  ------         --------------  -----  \n",
      " 0   Med_1_mL       400 non-null    float64\n",
      " 1   Med_2_mL       400 non-null    float64\n",
      " 2   Virus_Present  400 non-null    int64  \n",
      "dtypes: float64(2), int64(1)\n",
      "memory usage: 9.5 KB\n"
     ]
    }
   ],
   "source": [
    "df.info()"
   ]
  },
  {
   "cell_type": "code",
   "execution_count": 5,
   "id": "0a4ea003-bf40-439f-b9cf-463ad5635f0c",
   "metadata": {},
   "outputs": [
    {
     "data": {
      "text/plain": [
       "Med_1_mL         0\n",
       "Med_2_mL         0\n",
       "Virus_Present    0\n",
       "dtype: int64"
      ]
     },
     "execution_count": 5,
     "metadata": {},
     "output_type": "execute_result"
    }
   ],
   "source": [
    "df.isnull().sum()"
   ]
  },
  {
   "cell_type": "markdown",
   "id": "f427817b-7014-4210-9343-ad3f72928ba5",
   "metadata": {},
   "source": [
    "# X and y"
   ]
  },
  {
   "cell_type": "code",
   "execution_count": 6,
   "id": "fb56b246-e93c-48d2-b50e-0128c6e1d52a",
   "metadata": {},
   "outputs": [],
   "source": [
    "X = df.drop(columns = ['Virus_Present'])\n",
    "y = df['Virus_Present']"
   ]
  },
  {
   "cell_type": "markdown",
   "id": "0c19e37c-0748-4f40-8b7e-1d3df2e98101",
   "metadata": {},
   "source": [
    "# Train_test_split"
   ]
  },
  {
   "cell_type": "code",
   "execution_count": 7,
   "id": "40efb4e8-963f-4b0f-aa22-bdfc1ae5be4e",
   "metadata": {},
   "outputs": [],
   "source": [
    "from sklearn.model_selection import train_test_split\n",
    "\n",
    "X_train, X_test, y_train, y_test = train_test_split(X, y, test_size = 0.2, random_state= True)"
   ]
  },
  {
   "cell_type": "markdown",
   "id": "12acbc02-ef28-428f-ad1a-9982c2439a33",
   "metadata": {},
   "source": [
    "# ADABOOST\n",
    "**Applying Hyperparameter Tuning for identifying best parameters for adaboost**"
   ]
  },
  {
   "cell_type": "code",
   "execution_count": 8,
   "id": "58afb5a4-fd81-4fd0-8514-fa669e8d771f",
   "metadata": {},
   "outputs": [
    {
     "data": {
      "text/plain": [
       "{'n_estimators': 2}"
      ]
     },
     "execution_count": 8,
     "metadata": {},
     "output_type": "execute_result"
    }
   ],
   "source": [
    "from sklearn.model_selection import GridSearchCV\n",
    "\n",
    "# modelling\n",
    "\n",
    "from sklearn.ensemble import AdaBoostClassifier\n",
    "estimator_ab = AdaBoostClassifier()\n",
    "\n",
    "# parameters grid\n",
    "param_grid_ab = {\"n_estimators\" : list(range(1,100))}\n",
    "\n",
    "# grid search\n",
    "grid_ab = GridSearchCV(estimator_ab, param_grid_ab, cv = 5, scoring = 'accuracy')\n",
    "grid_ab.fit(X_train, y_train)\n",
    "\n",
    "# best parameters for adaboost model\n",
    "grid_ab.best_params_"
   ]
  },
  {
   "cell_type": "markdown",
   "id": "9bc14fbd-80b4-44ed-83de-f46d17a6ebbb",
   "metadata": {},
   "source": [
    "# ADA Boost model important features"
   ]
  },
  {
   "cell_type": "code",
   "execution_count": 9,
   "id": "2ea1253d-ec3c-4831-95aa-d809e45c0667",
   "metadata": {},
   "outputs": [
    {
     "data": {
      "text/plain": [
       "['Med_1_mL', 'Med_2_mL']"
      ]
     },
     "execution_count": 9,
     "metadata": {},
     "output_type": "execute_result"
    }
   ],
   "source": [
    "feats_ab = pd.DataFrame(data = grid_ab.best_estimator_.feature_importances_,\n",
    "                       index = X.columns, \n",
    "                       columns = ['Importance'])\n",
    "imp_features_list_ab = feats_ab[feats_ab['Importance']>0].index.to_list()\n",
    "imp_features_list_ab"
   ]
  },
  {
   "cell_type": "markdown",
   "id": "37789663-cc99-4c74-be0c-a47219b1de62",
   "metadata": {},
   "source": [
    "# ADABoost Classifier\n",
    "\n",
    "**with imortant features and best hyperparameters**"
   ]
  },
  {
   "cell_type": "code",
   "execution_count": 10,
   "id": "3479ceb2-238e-4cd9-9189-d98ecd6908ab",
   "metadata": {},
   "outputs": [
    {
     "name": "stdout",
     "output_type": "stream",
     "text": [
      "Train_accuracy :  1.0\n",
      "cross_val_score :  0.996875\n",
      "Test_accuracy :  1.0\n"
     ]
    }
   ],
   "source": [
    "# important input variables\n",
    "X_imp = X[imp_features_list_ab]\n",
    "\n",
    "# train test split\n",
    "X_train_ab, X_test_ab, y_train_ab, y_test_ab = train_test_split(X_imp, y, test_size = 0.2, random_state = True)\n",
    "\n",
    "# modelling\n",
    "from sklearn.ensemble import AdaBoostClassifier\n",
    "ada = AdaBoostClassifier(n_estimators= 2)\n",
    "ada.fit(X_train_ab, y_train_ab)\n",
    "\n",
    "# Evaluation on train data\n",
    "ypred_train_ab = ada.predict(X_train_ab)\n",
    "\n",
    "from sklearn.metrics import accuracy_score\n",
    "print(\"Train_accuracy : \", accuracy_score(y_train_ab, ypred_train_ab))\n",
    "\n",
    "# cross validation\n",
    "from sklearn.model_selection import cross_val_score\n",
    "print(\"cross_val_score : \", cross_val_score(ada, X_train_ab, y_train_ab, cv = 5).mean())\n",
    "\n",
    "# Evaluation\n",
    "ypred_test_ab = ada.predict(X_test_ab)\n",
    "print(\"Test_accuracy : \", accuracy_score(y_test_ab, ypred_test_ab))\n"
   ]
  },
  {
   "cell_type": "code",
   "execution_count": 11,
   "id": "94cc514c-de8f-414a-ab2b-0ebf2f012bce",
   "metadata": {},
   "outputs": [
    {
     "name": "stdout",
     "output_type": "stream",
     "text": [
      "10.3 ms ± 336 μs per loop (mean ± std. dev. of 7 runs, 100 loops each)\n"
     ]
    }
   ],
   "source": [
    "%%timeit\n",
    "ada.fit(X_train_ab, y_train_ab)\n"
   ]
  },
  {
   "cell_type": "code",
   "execution_count": null,
   "id": "df7c455b-3701-43f5-a02b-68038417bafc",
   "metadata": {},
   "outputs": [],
   "source": []
  }
 ],
 "metadata": {
  "kernelspec": {
   "display_name": "Python 3 (ipykernel)",
   "language": "python",
   "name": "python3"
  },
  "language_info": {
   "codemirror_mode": {
    "name": "ipython",
    "version": 3
   },
   "file_extension": ".py",
   "mimetype": "text/x-python",
   "name": "python",
   "nbconvert_exporter": "python",
   "pygments_lexer": "ipython3",
   "version": "3.12.4"
  }
 },
 "nbformat": 4,
 "nbformat_minor": 5
}
