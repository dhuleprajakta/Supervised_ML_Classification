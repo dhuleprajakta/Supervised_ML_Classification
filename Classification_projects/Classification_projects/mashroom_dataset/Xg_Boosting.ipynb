{
 "cells": [
  {
   "cell_type": "code",
   "execution_count": 2,
   "id": "4ac109de-12f9-4798-9b1a-29827591ac99",
   "metadata": {},
   "outputs": [],
   "source": [
    "import pandas as pd\n",
    "import numpy as np\n",
    "import matplotlib.pyplot as plt\n",
    "import seaborn as sns\n",
    "\n",
    "import warnings \n",
    "warnings.simplefilter('ignore')"
   ]
  },
  {
   "cell_type": "code",
   "execution_count": 3,
   "id": "2bc5de6a-df8c-48fc-bd66-5c2b1fbd6157",
   "metadata": {},
   "outputs": [],
   "source": [
    "df = pd.read_csv(r\"E:\\Data Science by SRK\\Machine_learning\\Classification\\mashroom_dataset\\cleaned_dataset_mashroom.csv\")"
   ]
  },
  {
   "cell_type": "code",
   "execution_count": 4,
   "id": "00d74788-4d13-4563-8f55-70f440a7eb4f",
   "metadata": {},
   "outputs": [
    {
     "data": {
      "text/html": [
       "<div>\n",
       "<style scoped>\n",
       "    .dataframe tbody tr th:only-of-type {\n",
       "        vertical-align: middle;\n",
       "    }\n",
       "\n",
       "    .dataframe tbody tr th {\n",
       "        vertical-align: top;\n",
       "    }\n",
       "\n",
       "    .dataframe thead th {\n",
       "        text-align: right;\n",
       "    }\n",
       "</style>\n",
       "<table border=\"1\" class=\"dataframe\">\n",
       "  <thead>\n",
       "    <tr style=\"text-align: right;\">\n",
       "      <th></th>\n",
       "      <th>class</th>\n",
       "      <th>cap-shape</th>\n",
       "      <th>cap-surface</th>\n",
       "      <th>cap-color</th>\n",
       "      <th>bruises</th>\n",
       "      <th>odor</th>\n",
       "      <th>gill-attachment</th>\n",
       "      <th>gill-spacing</th>\n",
       "      <th>gill-size</th>\n",
       "      <th>gill-color</th>\n",
       "      <th>...</th>\n",
       "      <th>stalk-surface-below-ring</th>\n",
       "      <th>stalk-color-above-ring</th>\n",
       "      <th>stalk-color-below-ring</th>\n",
       "      <th>veil-type</th>\n",
       "      <th>veil-color</th>\n",
       "      <th>ring-number</th>\n",
       "      <th>ring-type</th>\n",
       "      <th>spore-print-color</th>\n",
       "      <th>population</th>\n",
       "      <th>habitat</th>\n",
       "    </tr>\n",
       "  </thead>\n",
       "  <tbody>\n",
       "    <tr>\n",
       "      <th>0</th>\n",
       "      <td>1</td>\n",
       "      <td>5</td>\n",
       "      <td>2</td>\n",
       "      <td>4</td>\n",
       "      <td>1</td>\n",
       "      <td>6</td>\n",
       "      <td>1</td>\n",
       "      <td>0</td>\n",
       "      <td>1</td>\n",
       "      <td>4</td>\n",
       "      <td>...</td>\n",
       "      <td>2</td>\n",
       "      <td>7</td>\n",
       "      <td>7</td>\n",
       "      <td>0</td>\n",
       "      <td>2</td>\n",
       "      <td>1</td>\n",
       "      <td>4</td>\n",
       "      <td>2</td>\n",
       "      <td>3</td>\n",
       "      <td>5</td>\n",
       "    </tr>\n",
       "    <tr>\n",
       "      <th>1</th>\n",
       "      <td>0</td>\n",
       "      <td>5</td>\n",
       "      <td>2</td>\n",
       "      <td>9</td>\n",
       "      <td>1</td>\n",
       "      <td>0</td>\n",
       "      <td>1</td>\n",
       "      <td>0</td>\n",
       "      <td>0</td>\n",
       "      <td>4</td>\n",
       "      <td>...</td>\n",
       "      <td>2</td>\n",
       "      <td>7</td>\n",
       "      <td>7</td>\n",
       "      <td>0</td>\n",
       "      <td>2</td>\n",
       "      <td>1</td>\n",
       "      <td>4</td>\n",
       "      <td>3</td>\n",
       "      <td>2</td>\n",
       "      <td>1</td>\n",
       "    </tr>\n",
       "    <tr>\n",
       "      <th>2</th>\n",
       "      <td>0</td>\n",
       "      <td>0</td>\n",
       "      <td>2</td>\n",
       "      <td>8</td>\n",
       "      <td>1</td>\n",
       "      <td>3</td>\n",
       "      <td>1</td>\n",
       "      <td>0</td>\n",
       "      <td>0</td>\n",
       "      <td>5</td>\n",
       "      <td>...</td>\n",
       "      <td>2</td>\n",
       "      <td>7</td>\n",
       "      <td>7</td>\n",
       "      <td>0</td>\n",
       "      <td>2</td>\n",
       "      <td>1</td>\n",
       "      <td>4</td>\n",
       "      <td>3</td>\n",
       "      <td>2</td>\n",
       "      <td>3</td>\n",
       "    </tr>\n",
       "    <tr>\n",
       "      <th>3</th>\n",
       "      <td>1</td>\n",
       "      <td>5</td>\n",
       "      <td>3</td>\n",
       "      <td>8</td>\n",
       "      <td>1</td>\n",
       "      <td>6</td>\n",
       "      <td>1</td>\n",
       "      <td>0</td>\n",
       "      <td>1</td>\n",
       "      <td>5</td>\n",
       "      <td>...</td>\n",
       "      <td>2</td>\n",
       "      <td>7</td>\n",
       "      <td>7</td>\n",
       "      <td>0</td>\n",
       "      <td>2</td>\n",
       "      <td>1</td>\n",
       "      <td>4</td>\n",
       "      <td>2</td>\n",
       "      <td>3</td>\n",
       "      <td>5</td>\n",
       "    </tr>\n",
       "    <tr>\n",
       "      <th>4</th>\n",
       "      <td>0</td>\n",
       "      <td>5</td>\n",
       "      <td>2</td>\n",
       "      <td>3</td>\n",
       "      <td>0</td>\n",
       "      <td>5</td>\n",
       "      <td>1</td>\n",
       "      <td>1</td>\n",
       "      <td>0</td>\n",
       "      <td>4</td>\n",
       "      <td>...</td>\n",
       "      <td>2</td>\n",
       "      <td>7</td>\n",
       "      <td>7</td>\n",
       "      <td>0</td>\n",
       "      <td>2</td>\n",
       "      <td>1</td>\n",
       "      <td>0</td>\n",
       "      <td>3</td>\n",
       "      <td>0</td>\n",
       "      <td>1</td>\n",
       "    </tr>\n",
       "    <tr>\n",
       "      <th>...</th>\n",
       "      <td>...</td>\n",
       "      <td>...</td>\n",
       "      <td>...</td>\n",
       "      <td>...</td>\n",
       "      <td>...</td>\n",
       "      <td>...</td>\n",
       "      <td>...</td>\n",
       "      <td>...</td>\n",
       "      <td>...</td>\n",
       "      <td>...</td>\n",
       "      <td>...</td>\n",
       "      <td>...</td>\n",
       "      <td>...</td>\n",
       "      <td>...</td>\n",
       "      <td>...</td>\n",
       "      <td>...</td>\n",
       "      <td>...</td>\n",
       "      <td>...</td>\n",
       "      <td>...</td>\n",
       "      <td>...</td>\n",
       "      <td>...</td>\n",
       "    </tr>\n",
       "    <tr>\n",
       "      <th>8119</th>\n",
       "      <td>0</td>\n",
       "      <td>3</td>\n",
       "      <td>2</td>\n",
       "      <td>4</td>\n",
       "      <td>0</td>\n",
       "      <td>5</td>\n",
       "      <td>0</td>\n",
       "      <td>0</td>\n",
       "      <td>0</td>\n",
       "      <td>11</td>\n",
       "      <td>...</td>\n",
       "      <td>2</td>\n",
       "      <td>5</td>\n",
       "      <td>5</td>\n",
       "      <td>0</td>\n",
       "      <td>1</td>\n",
       "      <td>1</td>\n",
       "      <td>4</td>\n",
       "      <td>0</td>\n",
       "      <td>1</td>\n",
       "      <td>2</td>\n",
       "    </tr>\n",
       "    <tr>\n",
       "      <th>8120</th>\n",
       "      <td>0</td>\n",
       "      <td>5</td>\n",
       "      <td>2</td>\n",
       "      <td>4</td>\n",
       "      <td>0</td>\n",
       "      <td>5</td>\n",
       "      <td>0</td>\n",
       "      <td>0</td>\n",
       "      <td>0</td>\n",
       "      <td>11</td>\n",
       "      <td>...</td>\n",
       "      <td>2</td>\n",
       "      <td>5</td>\n",
       "      <td>5</td>\n",
       "      <td>0</td>\n",
       "      <td>0</td>\n",
       "      <td>1</td>\n",
       "      <td>4</td>\n",
       "      <td>0</td>\n",
       "      <td>4</td>\n",
       "      <td>2</td>\n",
       "    </tr>\n",
       "    <tr>\n",
       "      <th>8121</th>\n",
       "      <td>0</td>\n",
       "      <td>2</td>\n",
       "      <td>2</td>\n",
       "      <td>4</td>\n",
       "      <td>0</td>\n",
       "      <td>5</td>\n",
       "      <td>0</td>\n",
       "      <td>0</td>\n",
       "      <td>0</td>\n",
       "      <td>5</td>\n",
       "      <td>...</td>\n",
       "      <td>2</td>\n",
       "      <td>5</td>\n",
       "      <td>5</td>\n",
       "      <td>0</td>\n",
       "      <td>1</td>\n",
       "      <td>1</td>\n",
       "      <td>4</td>\n",
       "      <td>0</td>\n",
       "      <td>1</td>\n",
       "      <td>2</td>\n",
       "    </tr>\n",
       "    <tr>\n",
       "      <th>8122</th>\n",
       "      <td>1</td>\n",
       "      <td>3</td>\n",
       "      <td>3</td>\n",
       "      <td>4</td>\n",
       "      <td>0</td>\n",
       "      <td>8</td>\n",
       "      <td>1</td>\n",
       "      <td>0</td>\n",
       "      <td>1</td>\n",
       "      <td>0</td>\n",
       "      <td>...</td>\n",
       "      <td>1</td>\n",
       "      <td>7</td>\n",
       "      <td>7</td>\n",
       "      <td>0</td>\n",
       "      <td>2</td>\n",
       "      <td>1</td>\n",
       "      <td>0</td>\n",
       "      <td>7</td>\n",
       "      <td>4</td>\n",
       "      <td>2</td>\n",
       "    </tr>\n",
       "    <tr>\n",
       "      <th>8123</th>\n",
       "      <td>0</td>\n",
       "      <td>5</td>\n",
       "      <td>2</td>\n",
       "      <td>4</td>\n",
       "      <td>0</td>\n",
       "      <td>5</td>\n",
       "      <td>0</td>\n",
       "      <td>0</td>\n",
       "      <td>0</td>\n",
       "      <td>11</td>\n",
       "      <td>...</td>\n",
       "      <td>2</td>\n",
       "      <td>5</td>\n",
       "      <td>5</td>\n",
       "      <td>0</td>\n",
       "      <td>1</td>\n",
       "      <td>1</td>\n",
       "      <td>4</td>\n",
       "      <td>4</td>\n",
       "      <td>1</td>\n",
       "      <td>2</td>\n",
       "    </tr>\n",
       "  </tbody>\n",
       "</table>\n",
       "<p>8124 rows × 23 columns</p>\n",
       "</div>"
      ],
      "text/plain": [
       "      class  cap-shape  cap-surface  cap-color  bruises  odor  \\\n",
       "0         1          5            2          4        1     6   \n",
       "1         0          5            2          9        1     0   \n",
       "2         0          0            2          8        1     3   \n",
       "3         1          5            3          8        1     6   \n",
       "4         0          5            2          3        0     5   \n",
       "...     ...        ...          ...        ...      ...   ...   \n",
       "8119      0          3            2          4        0     5   \n",
       "8120      0          5            2          4        0     5   \n",
       "8121      0          2            2          4        0     5   \n",
       "8122      1          3            3          4        0     8   \n",
       "8123      0          5            2          4        0     5   \n",
       "\n",
       "      gill-attachment  gill-spacing  gill-size  gill-color  ...  \\\n",
       "0                   1             0          1           4  ...   \n",
       "1                   1             0          0           4  ...   \n",
       "2                   1             0          0           5  ...   \n",
       "3                   1             0          1           5  ...   \n",
       "4                   1             1          0           4  ...   \n",
       "...               ...           ...        ...         ...  ...   \n",
       "8119                0             0          0          11  ...   \n",
       "8120                0             0          0          11  ...   \n",
       "8121                0             0          0           5  ...   \n",
       "8122                1             0          1           0  ...   \n",
       "8123                0             0          0          11  ...   \n",
       "\n",
       "      stalk-surface-below-ring  stalk-color-above-ring  \\\n",
       "0                            2                       7   \n",
       "1                            2                       7   \n",
       "2                            2                       7   \n",
       "3                            2                       7   \n",
       "4                            2                       7   \n",
       "...                        ...                     ...   \n",
       "8119                         2                       5   \n",
       "8120                         2                       5   \n",
       "8121                         2                       5   \n",
       "8122                         1                       7   \n",
       "8123                         2                       5   \n",
       "\n",
       "      stalk-color-below-ring  veil-type  veil-color  ring-number  ring-type  \\\n",
       "0                          7          0           2            1          4   \n",
       "1                          7          0           2            1          4   \n",
       "2                          7          0           2            1          4   \n",
       "3                          7          0           2            1          4   \n",
       "4                          7          0           2            1          0   \n",
       "...                      ...        ...         ...          ...        ...   \n",
       "8119                       5          0           1            1          4   \n",
       "8120                       5          0           0            1          4   \n",
       "8121                       5          0           1            1          4   \n",
       "8122                       7          0           2            1          0   \n",
       "8123                       5          0           1            1          4   \n",
       "\n",
       "      spore-print-color  population  habitat  \n",
       "0                     2           3        5  \n",
       "1                     3           2        1  \n",
       "2                     3           2        3  \n",
       "3                     2           3        5  \n",
       "4                     3           0        1  \n",
       "...                 ...         ...      ...  \n",
       "8119                  0           1        2  \n",
       "8120                  0           4        2  \n",
       "8121                  0           1        2  \n",
       "8122                  7           4        2  \n",
       "8123                  4           1        2  \n",
       "\n",
       "[8124 rows x 23 columns]"
      ]
     },
     "execution_count": 4,
     "metadata": {},
     "output_type": "execute_result"
    }
   ],
   "source": [
    "df"
   ]
  },
  {
   "cell_type": "code",
   "execution_count": 5,
   "id": "46023dc8-f881-4849-8976-ddd62efc1212",
   "metadata": {},
   "outputs": [
    {
     "name": "stdout",
     "output_type": "stream",
     "text": [
      "<class 'pandas.core.frame.DataFrame'>\n",
      "RangeIndex: 8124 entries, 0 to 8123\n",
      "Data columns (total 23 columns):\n",
      " #   Column                    Non-Null Count  Dtype\n",
      "---  ------                    --------------  -----\n",
      " 0   class                     8124 non-null   int64\n",
      " 1   cap-shape                 8124 non-null   int64\n",
      " 2   cap-surface               8124 non-null   int64\n",
      " 3   cap-color                 8124 non-null   int64\n",
      " 4   bruises                   8124 non-null   int64\n",
      " 5   odor                      8124 non-null   int64\n",
      " 6   gill-attachment           8124 non-null   int64\n",
      " 7   gill-spacing              8124 non-null   int64\n",
      " 8   gill-size                 8124 non-null   int64\n",
      " 9   gill-color                8124 non-null   int64\n",
      " 10  stalk-shape               8124 non-null   int64\n",
      " 11  stalk-root                8124 non-null   int64\n",
      " 12  stalk-surface-above-ring  8124 non-null   int64\n",
      " 13  stalk-surface-below-ring  8124 non-null   int64\n",
      " 14  stalk-color-above-ring    8124 non-null   int64\n",
      " 15  stalk-color-below-ring    8124 non-null   int64\n",
      " 16  veil-type                 8124 non-null   int64\n",
      " 17  veil-color                8124 non-null   int64\n",
      " 18  ring-number               8124 non-null   int64\n",
      " 19  ring-type                 8124 non-null   int64\n",
      " 20  spore-print-color         8124 non-null   int64\n",
      " 21  population                8124 non-null   int64\n",
      " 22  habitat                   8124 non-null   int64\n",
      "dtypes: int64(23)\n",
      "memory usage: 1.4 MB\n"
     ]
    }
   ],
   "source": [
    "df.info()"
   ]
  },
  {
   "cell_type": "code",
   "execution_count": 6,
   "id": "0a4ea003-bf40-439f-b9cf-463ad5635f0c",
   "metadata": {},
   "outputs": [
    {
     "data": {
      "text/plain": [
       "class                       0\n",
       "cap-shape                   0\n",
       "cap-surface                 0\n",
       "cap-color                   0\n",
       "bruises                     0\n",
       "odor                        0\n",
       "gill-attachment             0\n",
       "gill-spacing                0\n",
       "gill-size                   0\n",
       "gill-color                  0\n",
       "stalk-shape                 0\n",
       "stalk-root                  0\n",
       "stalk-surface-above-ring    0\n",
       "stalk-surface-below-ring    0\n",
       "stalk-color-above-ring      0\n",
       "stalk-color-below-ring      0\n",
       "veil-type                   0\n",
       "veil-color                  0\n",
       "ring-number                 0\n",
       "ring-type                   0\n",
       "spore-print-color           0\n",
       "population                  0\n",
       "habitat                     0\n",
       "dtype: int64"
      ]
     },
     "execution_count": 6,
     "metadata": {},
     "output_type": "execute_result"
    }
   ],
   "source": [
    "df.isnull().sum()"
   ]
  },
  {
   "cell_type": "markdown",
   "id": "f427817b-7014-4210-9343-ad3f72928ba5",
   "metadata": {},
   "source": [
    "# X and y"
   ]
  },
  {
   "cell_type": "code",
   "execution_count": 7,
   "id": "fb56b246-e93c-48d2-b50e-0128c6e1d52a",
   "metadata": {},
   "outputs": [],
   "source": [
    "X = df.drop(columns = ['class'])\n",
    "y = df['class']"
   ]
  },
  {
   "cell_type": "markdown",
   "id": "0c19e37c-0748-4f40-8b7e-1d3df2e98101",
   "metadata": {},
   "source": [
    "# Train_test_split"
   ]
  },
  {
   "cell_type": "code",
   "execution_count": 8,
   "id": "40efb4e8-963f-4b0f-aa22-bdfc1ae5be4e",
   "metadata": {},
   "outputs": [],
   "source": [
    "from sklearn.model_selection import train_test_split\n",
    "\n",
    "X_train, X_test, y_train, y_test = train_test_split(X, y, test_size = 0.2, random_state= True)"
   ]
  },
  {
   "cell_type": "markdown",
   "id": "5de0bd83-a333-4437-b6ea-5699d342ad5c",
   "metadata": {},
   "source": [
    "# XGBoost\n",
    "\n",
    "**Applying Hyperparameter tuning for identifying best parameters for xgboost**"
   ]
  },
  {
   "cell_type": "code",
   "execution_count": 9,
   "id": "6b4d31fd-56bf-4a27-b82d-e42a59a93c8a",
   "metadata": {},
   "outputs": [],
   "source": [
    "# !pip install xgboost\n"
   ]
  },
  {
   "cell_type": "code",
   "execution_count": 10,
   "id": "7812d450-e8e0-4314-b9aa-6ca62fc40932",
   "metadata": {},
   "outputs": [
    {
     "data": {
      "text/plain": [
       "{'gamma': 0.1, 'max_depth': 3, 'n_estimators': 20}"
      ]
     },
     "execution_count": 10,
     "metadata": {},
     "output_type": "execute_result"
    }
   ],
   "source": [
    "from sklearn.model_selection import GridSearchCV\n",
    "\n",
    "# modelling\n",
    "\n",
    "from xgboost import XGBClassifier\n",
    "\n",
    "estimator_xgb = XGBClassifier()\n",
    "\n",
    "# parameters grid\n",
    "param_grid_xgb = {\"n_estimators\" : [1,5,10,20],\n",
    "                  'max_depth': [3,4,5],\n",
    "                'gamma' : [0.1, 0.15, 0.3, 0.5, 1]}\n",
    "\n",
    "# grid search\n",
    "grid_xgb = GridSearchCV(estimator_xgb, param_grid_xgb, cv = 5, scoring = 'accuracy')\n",
    "grid_xgb.fit(X_train, y_train)\n",
    "\n",
    "# best parameters for GradientBoostingClassifier model\n",
    "grid_xgb.best_params_"
   ]
  },
  {
   "cell_type": "markdown",
   "id": "78a458fd-57af-4417-8215-334b87f00068",
   "metadata": {},
   "source": [
    "# XGB Model imortant features"
   ]
  },
  {
   "cell_type": "code",
   "execution_count": 11,
   "id": "7103edd1-fee0-4c98-bd29-2f2de731b6d4",
   "metadata": {},
   "outputs": [
    {
     "data": {
      "text/plain": [
       "['cap-surface',\n",
       " 'cap-color',\n",
       " 'odor',\n",
       " 'gill-spacing',\n",
       " 'gill-size',\n",
       " 'gill-color',\n",
       " 'stalk-shape',\n",
       " 'stalk-root',\n",
       " 'stalk-surface-above-ring',\n",
       " 'stalk-surface-below-ring',\n",
       " 'stalk-color-above-ring',\n",
       " 'stalk-color-below-ring',\n",
       " 'spore-print-color',\n",
       " 'population']"
      ]
     },
     "execution_count": 11,
     "metadata": {},
     "output_type": "execute_result"
    }
   ],
   "source": [
    "feats_xgb = pd.DataFrame(data=grid_xgb.best_estimator_.feature_importances_,\n",
    "                        index = X.columns,\n",
    "                        columns=['Importance'])\n",
    "imp_features_list_xgb = feats_xgb[feats_xgb['Importance'] > 0].index.to_list()\n",
    "imp_features_list_xgb"
   ]
  },
  {
   "cell_type": "markdown",
   "id": "4c3efa57-cda5-4fbd-8042-ee84a42a19de",
   "metadata": {},
   "source": [
    "# Xtreme GradientBoost with important features and best hyperparameters"
   ]
  },
  {
   "cell_type": "code",
   "execution_count": 12,
   "id": "e0759c24-94e4-4c15-86d8-1b6ce2a42433",
   "metadata": {},
   "outputs": [
    {
     "name": "stdout",
     "output_type": "stream",
     "text": [
      "Train accuracy :  0.9995383905216187\n",
      "cross_val_score :  0.9995384615384616\n",
      "Test accuracy :  0.9969230769230769\n"
     ]
    }
   ],
   "source": [
    "X_imp_xgb = X[imp_features_list_xgb]\n",
    "\n",
    "X_train_xgb, X_test_xgb, y_train_xgb, y_test_xgb = train_test_split(X_imp_xgb, y, test_size = 0.2,\n",
    "                                                                   random_state = True)\n",
    "\n",
    "# modelling\n",
    "from xgboost import XGBClassifier\n",
    "xgb = XGBClassifier(gamma = 0.1, max_depth = 3, n_estimators = 20)\n",
    "xgb.fit(X_train_xgb, y_train_xgb)\n",
    "\n",
    "#Evaluation train data\n",
    "from sklearn.metrics import accuracy_score\n",
    "ypred_train = xgb.predict(X_train_xgb)\n",
    "print(\"Train accuracy : \", accuracy_score(y_train_xgb, ypred_train))\n",
    "\n",
    "# Cross_val_score\n",
    "from sklearn.model_selection import cross_val_score\n",
    "print(\"cross_val_score : \", cross_val_score(xgb, X_train_xgb, y_train_xgb, cv = 5).mean())\n",
    "\n",
    "#Evaluation test data\n",
    "ypred_test = xgb.predict(X_test_xgb)\n",
    "print(\"Test accuracy : \", accuracy_score(y_test_xgb, ypred_test))\n"
   ]
  },
  {
   "cell_type": "code",
   "execution_count": 13,
   "id": "712b8a2a-ee93-4a22-a4b2-84087419dcfb",
   "metadata": {},
   "outputs": [
    {
     "name": "stdout",
     "output_type": "stream",
     "text": [
      "46.9 ms ± 3.34 ms per loop (mean ± std. dev. of 7 runs, 10 loops each)\n"
     ]
    }
   ],
   "source": [
    "%%timeit\n",
    "xgb.fit(X_train_xgb, y_train_xgb)\n"
   ]
  },
  {
   "cell_type": "markdown",
   "id": "54c54659-2db4-40bf-a7f8-5d1db6a51e7e",
   "metadata": {},
   "source": []
  },
  {
   "cell_type": "code",
   "execution_count": 14,
   "id": "a1a8bb87-a220-4dbd-a3c7-d71f22ba0086",
   "metadata": {},
   "outputs": [],
   "source": []
  },
  {
   "cell_type": "code",
   "execution_count": 15,
   "id": "78d8e796-dcec-4cfe-917a-5dd69a676a52",
   "metadata": {},
   "outputs": [
    {
     "data": {
      "image/png": "[encoded data removed]",
      "text/plain": [
       "<Figure size 2800x1200 with 1 Axes>"
      ]
     },
     "metadata": {},
     "output_type": "display_data"
    }
   ],
   "source": []
  },
  {
   "cell_type": "code",
   "execution_count": 16,
   "id": "3bf0f69c-daf9-4b27-8ac6-480809cc4606",
   "metadata": {},
   "outputs": [
    {
     "data": {
      "text/plain": [
       "array([[820,   0],\n",
       "       [  5, 800]], dtype=int64)"
      ]
     },
     "execution_count": 16,
     "metadata": {},
     "output_type": "execute_result"
    }
   ],
   "source": []
  },
  {
   "cell_type": "code",
   "execution_count": 17,
   "id": "9019de3e-5558-45d9-bf3e-5e47d8121e27",
   "metadata": {},
   "outputs": [
    {
     "name": "stdout",
     "output_type": "stream",
     "text": [
      "              precision    recall  f1-score   support\n",
      "\n",
      "           0       0.99      1.00      1.00       820\n",
      "           1       1.00      0.99      1.00       805\n",
      "\n",
      "    accuracy                           1.00      1625\n",
      "   macro avg       1.00      1.00      1.00      1625\n",
      "weighted avg       1.00      1.00      1.00      1625\n",
      "\n"
     ]
    }
   ],
   "source": []
  },
  {
   "cell_type": "code",
   "execution_count": null,
   "id": "df7c455b-3701-43f5-a02b-68038417bafc",
   "metadata": {},
   "outputs": [],
   "source": []
  }
 ],
 "metadata": {
  "kernelspec": {
   "display_name": "Python 3 (ipykernel)",
   "language": "python",
   "name": "python3"
  },
  "language_info": {
   "codemirror_mode": {
    "name": "ipython",
    "version": 3
   },
   "file_extension": ".py",
   "mimetype": "text/x-python",
   "name": "python",
   "nbconvert_exporter": "python",
   "pygments_lexer": "ipython3",
   "version": "3.12.4"
  }
 },
 "nbformat": 4,
 "nbformat_minor": 5
}
