{
 "cells": [
  {
   "cell_type": "code",
   "execution_count": 79,
   "id": "d7ff4ae6-6742-4c13-a557-5ca039994701",
   "metadata": {},
   "outputs": [],
   "source": [
    "import pandas as pd \n",
    "import numpy as np\n",
    "\n",
    "import matplotlib.pyplot as plt\n",
    "import seaborn as sns\n",
    "\n",
    "import warnings\n",
    "warnings.simplefilter('ignore')"
   ]
  },
  {
   "cell_type": "code",
   "execution_count": 80,
   "id": "957c925f-2945-4d66-95c0-5b47c14425fb",
   "metadata": {},
   "outputs": [],
   "source": [
    "df = pd.read_csv(r\"E:\\Data Science by SRK\\Machine_learning\\Classification\\Diabetes\\cleaned_dataset_diabetes.csv\")"
   ]
  },
  {
   "cell_type": "code",
   "execution_count": 81,
   "id": "b633df28-c728-496e-abe5-42ef467a764b",
   "metadata": {},
   "outputs": [
    {
     "data": {
      "text/html": [
       "<div>\n",
       "<style scoped>\n",
       "    .dataframe tbody tr th:only-of-type {\n",
       "        vertical-align: middle;\n",
       "    }\n",
       "\n",
       "    .dataframe tbody tr th {\n",
       "        vertical-align: top;\n",
       "    }\n",
       "\n",
       "    .dataframe thead th {\n",
       "        text-align: right;\n",
       "    }\n",
       "</style>\n",
       "<table border=\"1\" class=\"dataframe\">\n",
       "  <thead>\n",
       "    <tr style=\"text-align: right;\">\n",
       "      <th></th>\n",
       "      <th>Pregnancies</th>\n",
       "      <th>Glucose</th>\n",
       "      <th>BloodPressure</th>\n",
       "      <th>SkinThickness</th>\n",
       "      <th>Insulin</th>\n",
       "      <th>BMI</th>\n",
       "      <th>DiabetesPedigreeFunction</th>\n",
       "      <th>Age</th>\n",
       "      <th>Outcome</th>\n",
       "    </tr>\n",
       "  </thead>\n",
       "  <tbody>\n",
       "    <tr>\n",
       "      <th>0</th>\n",
       "      <td>1</td>\n",
       "      <td>89.0</td>\n",
       "      <td>66.0</td>\n",
       "      <td>23.0</td>\n",
       "      <td>1.460250</td>\n",
       "      <td>28.1</td>\n",
       "      <td>0.861443</td>\n",
       "      <td>1.288798</td>\n",
       "      <td>0</td>\n",
       "    </tr>\n",
       "    <tr>\n",
       "      <th>1</th>\n",
       "      <td>0</td>\n",
       "      <td>137.0</td>\n",
       "      <td>40.0</td>\n",
       "      <td>35.0</td>\n",
       "      <td>1.532648</td>\n",
       "      <td>43.1</td>\n",
       "      <td>1.071407</td>\n",
       "      <td>1.338267</td>\n",
       "      <td>1</td>\n",
       "    </tr>\n",
       "    <tr>\n",
       "      <th>2</th>\n",
       "      <td>3</td>\n",
       "      <td>78.0</td>\n",
       "      <td>50.0</td>\n",
       "      <td>32.0</td>\n",
       "      <td>1.452246</td>\n",
       "      <td>31.0</td>\n",
       "      <td>0.890303</td>\n",
       "      <td>1.311941</td>\n",
       "      <td>1</td>\n",
       "    </tr>\n",
       "    <tr>\n",
       "      <th>3</th>\n",
       "      <td>2</td>\n",
       "      <td>197.0</td>\n",
       "      <td>70.0</td>\n",
       "      <td>45.0</td>\n",
       "      <td>1.690052</td>\n",
       "      <td>30.5</td>\n",
       "      <td>0.857475</td>\n",
       "      <td>1.392162</td>\n",
       "      <td>1</td>\n",
       "    </tr>\n",
       "    <tr>\n",
       "      <th>4</th>\n",
       "      <td>1</td>\n",
       "      <td>189.0</td>\n",
       "      <td>60.0</td>\n",
       "      <td>23.0</td>\n",
       "      <td>1.753669</td>\n",
       "      <td>30.1</td>\n",
       "      <td>0.926098</td>\n",
       "      <td>1.404659</td>\n",
       "      <td>1</td>\n",
       "    </tr>\n",
       "    <tr>\n",
       "      <th>...</th>\n",
       "      <td>...</td>\n",
       "      <td>...</td>\n",
       "      <td>...</td>\n",
       "      <td>...</td>\n",
       "      <td>...</td>\n",
       "      <td>...</td>\n",
       "      <td>...</td>\n",
       "      <td>...</td>\n",
       "      <td>...</td>\n",
       "    </tr>\n",
       "    <tr>\n",
       "      <th>387</th>\n",
       "      <td>0</td>\n",
       "      <td>181.0</td>\n",
       "      <td>88.0</td>\n",
       "      <td>44.0</td>\n",
       "      <td>1.681244</td>\n",
       "      <td>43.3</td>\n",
       "      <td>0.882124</td>\n",
       "      <td>1.311941</td>\n",
       "      <td>1</td>\n",
       "    </tr>\n",
       "    <tr>\n",
       "      <th>388</th>\n",
       "      <td>1</td>\n",
       "      <td>128.0</td>\n",
       "      <td>88.0</td>\n",
       "      <td>39.0</td>\n",
       "      <td>1.479504</td>\n",
       "      <td>36.5</td>\n",
       "      <td>1.004630</td>\n",
       "      <td>1.351088</td>\n",
       "      <td>1</td>\n",
       "    </tr>\n",
       "    <tr>\n",
       "      <th>389</th>\n",
       "      <td>2</td>\n",
       "      <td>88.0</td>\n",
       "      <td>58.0</td>\n",
       "      <td>26.0</td>\n",
       "      <td>1.259921</td>\n",
       "      <td>28.4</td>\n",
       "      <td>0.978030</td>\n",
       "      <td>1.293804</td>\n",
       "      <td>0</td>\n",
       "    </tr>\n",
       "    <tr>\n",
       "      <th>390</th>\n",
       "      <td>10</td>\n",
       "      <td>101.0</td>\n",
       "      <td>76.0</td>\n",
       "      <td>48.0</td>\n",
       "      <td>1.541485</td>\n",
       "      <td>32.9</td>\n",
       "      <td>0.863144</td>\n",
       "      <td>1.412359</td>\n",
       "      <td>0</td>\n",
       "    </tr>\n",
       "    <tr>\n",
       "      <th>391</th>\n",
       "      <td>5</td>\n",
       "      <td>121.0</td>\n",
       "      <td>72.0</td>\n",
       "      <td>23.0</td>\n",
       "      <td>1.481727</td>\n",
       "      <td>26.2</td>\n",
       "      <td>0.889400</td>\n",
       "      <td>1.327680</td>\n",
       "      <td>0</td>\n",
       "    </tr>\n",
       "  </tbody>\n",
       "</table>\n",
       "<p>392 rows × 9 columns</p>\n",
       "</div>"
      ],
      "text/plain": [
       "     Pregnancies  Glucose  BloodPressure  SkinThickness   Insulin   BMI  \\\n",
       "0              1     89.0           66.0           23.0  1.460250  28.1   \n",
       "1              0    137.0           40.0           35.0  1.532648  43.1   \n",
       "2              3     78.0           50.0           32.0  1.452246  31.0   \n",
       "3              2    197.0           70.0           45.0  1.690052  30.5   \n",
       "4              1    189.0           60.0           23.0  1.753669  30.1   \n",
       "..           ...      ...            ...            ...       ...   ...   \n",
       "387            0    181.0           88.0           44.0  1.681244  43.3   \n",
       "388            1    128.0           88.0           39.0  1.479504  36.5   \n",
       "389            2     88.0           58.0           26.0  1.259921  28.4   \n",
       "390           10    101.0           76.0           48.0  1.541485  32.9   \n",
       "391            5    121.0           72.0           23.0  1.481727  26.2   \n",
       "\n",
       "     DiabetesPedigreeFunction       Age  Outcome  \n",
       "0                    0.861443  1.288798        0  \n",
       "1                    1.071407  1.338267        1  \n",
       "2                    0.890303  1.311941        1  \n",
       "3                    0.857475  1.392162        1  \n",
       "4                    0.926098  1.404659        1  \n",
       "..                        ...       ...      ...  \n",
       "387                  0.882124  1.311941        1  \n",
       "388                  1.004630  1.351088        1  \n",
       "389                  0.978030  1.293804        0  \n",
       "390                  0.863144  1.412359        0  \n",
       "391                  0.889400  1.327680        0  \n",
       "\n",
       "[392 rows x 9 columns]"
      ]
     },
     "execution_count": 81,
     "metadata": {},
     "output_type": "execute_result"
    }
   ],
   "source": [
    "df\n"
   ]
  },
  {
   "cell_type": "code",
   "execution_count": null,
   "id": "2b9dc0ec-e6c2-4bda-8990-b6f150c57057",
   "metadata": {},
   "outputs": [],
   "source": []
  },
  {
   "cell_type": "code",
   "execution_count": 82,
   "id": "c58e8703-e119-4784-afeb-d946400fb8a9",
   "metadata": {},
   "outputs": [
    {
     "name": "stdout",
     "output_type": "stream",
     "text": [
      "<class 'pandas.core.frame.DataFrame'>\n",
      "RangeIndex: 392 entries, 0 to 391\n",
      "Data columns (total 9 columns):\n",
      " #   Column                    Non-Null Count  Dtype  \n",
      "---  ------                    --------------  -----  \n",
      " 0   Pregnancies               392 non-null    int64  \n",
      " 1   Glucose                   392 non-null    float64\n",
      " 2   BloodPressure             392 non-null    float64\n",
      " 3   SkinThickness             392 non-null    float64\n",
      " 4   Insulin                   392 non-null    float64\n",
      " 5   BMI                       392 non-null    float64\n",
      " 6   DiabetesPedigreeFunction  392 non-null    float64\n",
      " 7   Age                       392 non-null    float64\n",
      " 8   Outcome                   392 non-null    int64  \n",
      "dtypes: float64(7), int64(2)\n",
      "memory usage: 27.7 KB\n"
     ]
    }
   ],
   "source": [
    "df.info()"
   ]
  },
  {
   "cell_type": "code",
   "execution_count": 83,
   "id": "f0ed4d5f-5880-4ef1-8b11-058ea082c6be",
   "metadata": {},
   "outputs": [
    {
     "data": {
      "image/png": "[encoded data removed]",
      "text/plain": [
       "<Figure size 640x480 with 1 Axes>"
      ]
     },
     "metadata": {},
     "output_type": "display_data"
    }
   ],
   "source": [
    "sns.scatterplot(x = 'Glucose', y = 'Insulin', hue = 'Outcome', data = df)\n",
    "plt.show()"
   ]
  },
  {
   "cell_type": "code",
   "execution_count": 84,
   "id": "582136df-f814-43b1-9f01-46201f2cf2f9",
   "metadata": {},
   "outputs": [
    {
     "data": {
      "text/plain": [
       "Pregnancies                 0\n",
       "Glucose                     0\n",
       "BloodPressure               0\n",
       "SkinThickness               0\n",
       "Insulin                     0\n",
       "BMI                         0\n",
       "DiabetesPedigreeFunction    0\n",
       "Age                         0\n",
       "Outcome                     0\n",
       "dtype: int64"
      ]
     },
     "execution_count": 84,
     "metadata": {},
     "output_type": "execute_result"
    }
   ],
   "source": [
    "df.isnull().sum()"
   ]
  },
  {
   "cell_type": "markdown",
   "id": "e4979e52-ed74-459b-95fd-ecea6ec439f9",
   "metadata": {},
   "source": [
    "# X & y"
   ]
  },
  {
   "cell_type": "code",
   "execution_count": 85,
   "id": "55e0c946-2973-4883-a14e-f53f9d5af75c",
   "metadata": {},
   "outputs": [],
   "source": [
    "X = df.drop(columns = ['Outcome'])\n",
    "y = df['Outcome']"
   ]
  },
  {
   "cell_type": "markdown",
   "id": "9e2ecebb-8a0c-46b3-84f4-0d554e57a72f",
   "metadata": {},
   "source": [
    "# Train_Test_split\n"
   ]
  },
  {
   "cell_type": "code",
   "execution_count": 86,
   "id": "9b6c4e73-70ce-41f8-b73d-086f2b31fadb",
   "metadata": {},
   "outputs": [],
   "source": [
    "from sklearn.model_selection import train_test_split\n",
    "X_train, X_test, y_train, y_test = train_test_split(X, y, test_size = 0.2, random_state = True)"
   ]
  },
  {
   "cell_type": "markdown",
   "id": "f04b17cd-966f-4b34-9f47-3b7774b86e56",
   "metadata": {},
   "source": [
    "# Scaling data"
   ]
  },
  {
   "cell_type": "code",
   "execution_count": 87,
   "id": "dcb7cc1e-55b6-4f7b-ae4c-35d6ae9a45c6",
   "metadata": {},
   "outputs": [],
   "source": [
    "from sklearn.preprocessing import StandardScaler\n",
    "scaler = StandardScaler()\n",
    "\n",
    "X_train.iloc[:, 1 : 8] = scaler.fit_transform(X_train.iloc[:, 1 : 8])\n",
    "X_test.iloc[:, 1 : 8] = scaler.transform(X_test.iloc[:, 1 : 8])"
   ]
  },
  {
   "cell_type": "markdown",
   "id": "acd96a0b-720d-4a3e-ae68-0752aa75ed57",
   "metadata": {},
   "source": [
    "# Hyper parameter tuning for KNN Classifier"
   ]
  },
  {
   "cell_type": "code",
   "execution_count": 88,
   "id": "71ac891a-c6c9-4b3f-8451-8988141b845b",
   "metadata": {},
   "outputs": [
    {
     "data": {
      "text/plain": [
       "{'n_neighbors': 13}"
      ]
     },
     "execution_count": 88,
     "metadata": {},
     "output_type": "execute_result"
    }
   ],
   "source": [
    "from sklearn.neighbors import KNeighborsClassifier\n",
    "estimator = KNeighborsClassifier()\n",
    "param_grid = {'n_neighbors' : list(range(1,100))}\n",
    "\n",
    "from sklearn.model_selection import GridSearchCV\n",
    "cv_classifier = GridSearchCV(estimator, param_grid, cv = 5, scoring = 'accuracy')\n",
    "\n",
    "cv_classifier.fit(X_train, y_train)\n",
    "\n",
    "cv_classifier.best_params_"
   ]
  },
  {
   "cell_type": "markdown",
   "id": "9da93967-e37f-49d3-831d-fd17ac9babc8",
   "metadata": {},
   "source": [
    "# KNN Model With Best Hyper parameters"
   ]
  },
  {
   "cell_type": "code",
   "execution_count": 89,
   "id": "fc2ab6c9-cb44-4152-b841-3527e7b1875e",
   "metadata": {},
   "outputs": [
    {
     "name": "stdout",
     "output_type": "stream",
     "text": [
      "Train accuracy :  0.7987220447284346\n",
      "Test accuracy :  0.7341772151898734\n",
      "Cross_val_score :  0.7679974034404414\n"
     ]
    }
   ],
   "source": [
    "from sklearn.neighbors import KNeighborsClassifier\n",
    "knn = KNeighborsClassifier(n_neighbors = 13)\n",
    "knn.fit(X_train, y_train)\n",
    "\n",
    "#prediction\n",
    "ypred_train = knn.predict(X_train)\n",
    "ypred_test = knn.predict(X_test)\n",
    "\n",
    "#Evaluation\n",
    "from sklearn.metrics import accuracy_score\n",
    "print(\"Train accuracy : \", accuracy_score(y_train, ypred_train))\n",
    "print(\"Test accuracy : \", accuracy_score(y_test, ypred_test))\n",
    "\n",
    "from sklearn.model_selection import cross_val_score\n",
    "print(\"Cross_val_score : \", cross_val_score(knn, X, y, cv= 5).mean())\n",
    "\n"
   ]
  },
  {
   "cell_type": "markdown",
   "id": "d780a763-3fca-4e43-9fe4-324c120147b4",
   "metadata": {},
   "source": [
    "# Confusion metrics"
   ]
  },
  {
   "cell_type": "code",
   "execution_count": 90,
   "id": "cc9cbee9-f0ab-4433-a5be-2dd306236d67",
   "metadata": {},
   "outputs": [
    {
     "data": {
      "text/plain": [
       "array([[43, 12],\n",
       "       [ 9, 15]], dtype=int64)"
      ]
     },
     "execution_count": 90,
     "metadata": {},
     "output_type": "execute_result"
    }
   ],
   "source": [
    "from sklearn.metrics import confusion_matrix\n",
    "confusion_matrix(y_test, ypred_test)"
   ]
  },
  {
   "cell_type": "code",
   "execution_count": 91,
   "id": "7884a998-1bf0-4685-af07-a5e00faa511a",
   "metadata": {},
   "outputs": [
    {
     "name": "stdout",
     "output_type": "stream",
     "text": [
      "              precision    recall  f1-score   support\n",
      "\n",
      "           0       0.83      0.78      0.80        55\n",
      "           1       0.56      0.62      0.59        24\n",
      "\n",
      "    accuracy                           0.73        79\n",
      "   macro avg       0.69      0.70      0.70        79\n",
      "weighted avg       0.74      0.73      0.74        79\n",
      "\n"
     ]
    }
   ],
   "source": [
    "from sklearn.metrics import classification_report\n",
    "print(classification_report(y_test, ypred_test))"
   ]
  },
  {
   "cell_type": "markdown",
   "id": "8d51ae51-7a86-4322-b8e9-3a6aaba03394",
   "metadata": {},
   "source": [
    "# Prediction new data"
   ]
  },
  {
   "cell_type": "code",
   "execution_count": 92,
   "id": "777c8a14-35dc-4db0-aed5-9fd51983d741",
   "metadata": {},
   "outputs": [
    {
     "data": {
      "text/html": [
       "<div>\n",
       "<style scoped>\n",
       "    .dataframe tbody tr th:only-of-type {\n",
       "        vertical-align: middle;\n",
       "    }\n",
       "\n",
       "    .dataframe tbody tr th {\n",
       "        vertical-align: top;\n",
       "    }\n",
       "\n",
       "    .dataframe thead th {\n",
       "        text-align: right;\n",
       "    }\n",
       "</style>\n",
       "<table border=\"1\" class=\"dataframe\">\n",
       "  <thead>\n",
       "    <tr style=\"text-align: right;\">\n",
       "      <th></th>\n",
       "      <th>Pregnancies</th>\n",
       "      <th>Glucose</th>\n",
       "      <th>BloodPressure</th>\n",
       "      <th>SkinThickness</th>\n",
       "      <th>Insulin</th>\n",
       "      <th>BMI</th>\n",
       "      <th>DiabetesPedigreeFunction</th>\n",
       "      <th>Age</th>\n",
       "    </tr>\n",
       "  </thead>\n",
       "  <tbody>\n",
       "    <tr>\n",
       "      <th>0</th>\n",
       "      <td>1</td>\n",
       "      <td>89.0</td>\n",
       "      <td>66.0</td>\n",
       "      <td>23.0</td>\n",
       "      <td>1.46025</td>\n",
       "      <td>28.1</td>\n",
       "      <td>0.861443</td>\n",
       "      <td>1.288798</td>\n",
       "    </tr>\n",
       "  </tbody>\n",
       "</table>\n",
       "</div>"
      ],
      "text/plain": [
       "   Pregnancies  Glucose  BloodPressure  SkinThickness  Insulin   BMI  \\\n",
       "0            1     89.0           66.0           23.0  1.46025  28.1   \n",
       "\n",
       "   DiabetesPedigreeFunction       Age  \n",
       "0                  0.861443  1.288798  "
      ]
     },
     "execution_count": 92,
     "metadata": {},
     "output_type": "execute_result"
    }
   ],
   "source": [
    "import pandas as pd\n",
    "\n",
    "\n",
    "test_data = pd.DataFrame({\n",
    "    'Pregnancies': [1],\n",
    "    'Glucose': [89.0],\n",
    "    'BloodPressure': [66.0],\n",
    "    'SkinThickness': [23.0],\n",
    "    'Insulin': [1.460250],\n",
    "    'BMI': [28.1],\n",
    "    'DiabetesPedigreeFunction': [0.861443],\n",
    "    'Age': [1.288798],\n",
    "# no outcome column used because its calculate only X_test data  :  'Outcome': [0]  \n",
    "})\n",
    "\n",
    "test_data\n"
   ]
  },
  {
   "cell_type": "markdown",
   "id": "b98813e9-9dd8-4383-a8f4-4e1653232636",
   "metadata": {},
   "source": [
    "# use KNN Model to predict new data"
   ]
  },
  {
   "cell_type": "code",
   "execution_count": 93,
   "id": "ca391c7b-618b-4525-a038-2ffaac1329a8",
   "metadata": {},
   "outputs": [
    {
     "data": {
      "text/plain": [
       "array([1], dtype=int64)"
      ]
     },
     "execution_count": 93,
     "metadata": {},
     "output_type": "execute_result"
    }
   ],
   "source": [
    "knn.predict(test_data)"
   ]
  }
 ],
 "metadata": {
  "kernelspec": {
   "display_name": "Python 3 (ipykernel)",
   "language": "python",
   "name": "python3"
  },
  "language_info": {
   "codemirror_mode": {
    "name": "ipython",
    "version": 3
   },
   "file_extension": ".py",
   "mimetype": "text/x-python",
   "name": "python",
   "nbconvert_exporter": "python",
   "pygments_lexer": "ipython3",
   "version": "3.12.4"
  }
 },
 "nbformat": 4,
 "nbformat_minor": 5
}
