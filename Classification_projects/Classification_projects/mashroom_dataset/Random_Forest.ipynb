{
 "cells": [
  {
   "cell_type": "code",
   "execution_count": 1,
   "id": "d9730e8e-b0b5-49fd-b57b-249111a744c6",
   "metadata": {},
   "outputs": [],
   "source": [
    "import pandas as pd \n",
    "import numpy as np\n",
    "\n",
    "import warnings\n",
    "warnings.simplefilter('ignore')"
   ]
  },
  {
   "cell_type": "code",
   "execution_count": 2,
   "id": "f324fb16-833c-4fca-9a5c-3b263727dc46",
   "metadata": {},
   "outputs": [],
   "source": [
    "df = pd.read_csv(r\"E:\\Data Science by SRK\\Machine_learning\\Classification\\Diabetes\\cleaned_dataset_diabetes.csv\")"
   ]
  },
  {
   "cell_type": "code",
   "execution_count": 3,
   "id": "739f04da-8f51-4381-b2c5-bdb8892de812",
   "metadata": {},
   "outputs": [
    {
     "data": {
      "text/html": [
       "<div>\n",
       "<style scoped>\n",
       "    .dataframe tbody tr th:only-of-type {\n",
       "        vertical-align: middle;\n",
       "    }\n",
       "\n",
       "    .dataframe tbody tr th {\n",
       "        vertical-align: top;\n",
       "    }\n",
       "\n",
       "    .dataframe thead th {\n",
       "        text-align: right;\n",
       "    }\n",
       "</style>\n",
       "<table border=\"1\" class=\"dataframe\">\n",
       "  <thead>\n",
       "    <tr style=\"text-align: right;\">\n",
       "      <th></th>\n",
       "      <th>Pregnancies</th>\n",
       "      <th>Glucose</th>\n",
       "      <th>BloodPressure</th>\n",
       "      <th>SkinThickness</th>\n",
       "      <th>Insulin</th>\n",
       "      <th>BMI</th>\n",
       "      <th>DiabetesPedigreeFunction</th>\n",
       "      <th>Age</th>\n",
       "      <th>Outcome</th>\n",
       "    </tr>\n",
       "  </thead>\n",
       "  <tbody>\n",
       "    <tr>\n",
       "      <th>0</th>\n",
       "      <td>1</td>\n",
       "      <td>89.0</td>\n",
       "      <td>66.0</td>\n",
       "      <td>23.0</td>\n",
       "      <td>1.460250</td>\n",
       "      <td>28.1</td>\n",
       "      <td>0.861443</td>\n",
       "      <td>1.288798</td>\n",
       "      <td>0</td>\n",
       "    </tr>\n",
       "    <tr>\n",
       "      <th>1</th>\n",
       "      <td>0</td>\n",
       "      <td>137.0</td>\n",
       "      <td>40.0</td>\n",
       "      <td>35.0</td>\n",
       "      <td>1.532648</td>\n",
       "      <td>43.1</td>\n",
       "      <td>1.071407</td>\n",
       "      <td>1.338267</td>\n",
       "      <td>1</td>\n",
       "    </tr>\n",
       "    <tr>\n",
       "      <th>2</th>\n",
       "      <td>3</td>\n",
       "      <td>78.0</td>\n",
       "      <td>50.0</td>\n",
       "      <td>32.0</td>\n",
       "      <td>1.452246</td>\n",
       "      <td>31.0</td>\n",
       "      <td>0.890303</td>\n",
       "      <td>1.311941</td>\n",
       "      <td>1</td>\n",
       "    </tr>\n",
       "    <tr>\n",
       "      <th>3</th>\n",
       "      <td>2</td>\n",
       "      <td>197.0</td>\n",
       "      <td>70.0</td>\n",
       "      <td>45.0</td>\n",
       "      <td>1.690052</td>\n",
       "      <td>30.5</td>\n",
       "      <td>0.857475</td>\n",
       "      <td>1.392162</td>\n",
       "      <td>1</td>\n",
       "    </tr>\n",
       "    <tr>\n",
       "      <th>4</th>\n",
       "      <td>1</td>\n",
       "      <td>189.0</td>\n",
       "      <td>60.0</td>\n",
       "      <td>23.0</td>\n",
       "      <td>1.753669</td>\n",
       "      <td>30.1</td>\n",
       "      <td>0.926098</td>\n",
       "      <td>1.404659</td>\n",
       "      <td>1</td>\n",
       "    </tr>\n",
       "    <tr>\n",
       "      <th>...</th>\n",
       "      <td>...</td>\n",
       "      <td>...</td>\n",
       "      <td>...</td>\n",
       "      <td>...</td>\n",
       "      <td>...</td>\n",
       "      <td>...</td>\n",
       "      <td>...</td>\n",
       "      <td>...</td>\n",
       "      <td>...</td>\n",
       "    </tr>\n",
       "    <tr>\n",
       "      <th>387</th>\n",
       "      <td>0</td>\n",
       "      <td>181.0</td>\n",
       "      <td>88.0</td>\n",
       "      <td>44.0</td>\n",
       "      <td>1.681244</td>\n",
       "      <td>43.3</td>\n",
       "      <td>0.882124</td>\n",
       "      <td>1.311941</td>\n",
       "      <td>1</td>\n",
       "    </tr>\n",
       "    <tr>\n",
       "      <th>388</th>\n",
       "      <td>1</td>\n",
       "      <td>128.0</td>\n",
       "      <td>88.0</td>\n",
       "      <td>39.0</td>\n",
       "      <td>1.479504</td>\n",
       "      <td>36.5</td>\n",
       "      <td>1.004630</td>\n",
       "      <td>1.351088</td>\n",
       "      <td>1</td>\n",
       "    </tr>\n",
       "    <tr>\n",
       "      <th>389</th>\n",
       "      <td>2</td>\n",
       "      <td>88.0</td>\n",
       "      <td>58.0</td>\n",
       "      <td>26.0</td>\n",
       "      <td>1.259921</td>\n",
       "      <td>28.4</td>\n",
       "      <td>0.978030</td>\n",
       "      <td>1.293804</td>\n",
       "      <td>0</td>\n",
       "    </tr>\n",
       "    <tr>\n",
       "      <th>390</th>\n",
       "      <td>10</td>\n",
       "      <td>101.0</td>\n",
       "      <td>76.0</td>\n",
       "      <td>48.0</td>\n",
       "      <td>1.541485</td>\n",
       "      <td>32.9</td>\n",
       "      <td>0.863144</td>\n",
       "      <td>1.412359</td>\n",
       "      <td>0</td>\n",
       "    </tr>\n",
       "    <tr>\n",
       "      <th>391</th>\n",
       "      <td>5</td>\n",
       "      <td>121.0</td>\n",
       "      <td>72.0</td>\n",
       "      <td>23.0</td>\n",
       "      <td>1.481727</td>\n",
       "      <td>26.2</td>\n",
       "      <td>0.889400</td>\n",
       "      <td>1.327680</td>\n",
       "      <td>0</td>\n",
       "    </tr>\n",
       "  </tbody>\n",
       "</table>\n",
       "<p>392 rows × 9 columns</p>\n",
       "</div>"
      ],
      "text/plain": [
       "     Pregnancies  Glucose  BloodPressure  SkinThickness   Insulin   BMI  \\\n",
       "0              1     89.0           66.0           23.0  1.460250  28.1   \n",
       "1              0    137.0           40.0           35.0  1.532648  43.1   \n",
       "2              3     78.0           50.0           32.0  1.452246  31.0   \n",
       "3              2    197.0           70.0           45.0  1.690052  30.5   \n",
       "4              1    189.0           60.0           23.0  1.753669  30.1   \n",
       "..           ...      ...            ...            ...       ...   ...   \n",
       "387            0    181.0           88.0           44.0  1.681244  43.3   \n",
       "388            1    128.0           88.0           39.0  1.479504  36.5   \n",
       "389            2     88.0           58.0           26.0  1.259921  28.4   \n",
       "390           10    101.0           76.0           48.0  1.541485  32.9   \n",
       "391            5    121.0           72.0           23.0  1.481727  26.2   \n",
       "\n",
       "     DiabetesPedigreeFunction       Age  Outcome  \n",
       "0                    0.861443  1.288798        0  \n",
       "1                    1.071407  1.338267        1  \n",
       "2                    0.890303  1.311941        1  \n",
       "3                    0.857475  1.392162        1  \n",
       "4                    0.926098  1.404659        1  \n",
       "..                        ...       ...      ...  \n",
       "387                  0.882124  1.311941        1  \n",
       "388                  1.004630  1.351088        1  \n",
       "389                  0.978030  1.293804        0  \n",
       "390                  0.863144  1.412359        0  \n",
       "391                  0.889400  1.327680        0  \n",
       "\n",
       "[392 rows x 9 columns]"
      ]
     },
     "execution_count": 3,
     "metadata": {},
     "output_type": "execute_result"
    }
   ],
   "source": [
    "df"
   ]
  },
  {
   "cell_type": "code",
   "execution_count": 4,
   "id": "622bca22-08e5-4345-a162-9e2c9263bf00",
   "metadata": {},
   "outputs": [
    {
     "name": "stdout",
     "output_type": "stream",
     "text": [
      "<class 'pandas.core.frame.DataFrame'>\n",
      "RangeIndex: 392 entries, 0 to 391\n",
      "Data columns (total 9 columns):\n",
      " #   Column                    Non-Null Count  Dtype  \n",
      "---  ------                    --------------  -----  \n",
      " 0   Pregnancies               392 non-null    int64  \n",
      " 1   Glucose                   392 non-null    float64\n",
      " 2   BloodPressure             392 non-null    float64\n",
      " 3   SkinThickness             392 non-null    float64\n",
      " 4   Insulin                   392 non-null    float64\n",
      " 5   BMI                       392 non-null    float64\n",
      " 6   DiabetesPedigreeFunction  392 non-null    float64\n",
      " 7   Age                       392 non-null    float64\n",
      " 8   Outcome                   392 non-null    int64  \n",
      "dtypes: float64(7), int64(2)\n",
      "memory usage: 27.7 KB\n"
     ]
    }
   ],
   "source": [
    "df.info()"
   ]
  },
  {
   "cell_type": "code",
   "execution_count": 5,
   "id": "25a9ad76-4f72-48c2-b67b-2fdf3257fb13",
   "metadata": {},
   "outputs": [
    {
     "data": {
      "text/plain": [
       "Pregnancies                 0\n",
       "Glucose                     0\n",
       "BloodPressure               0\n",
       "SkinThickness               0\n",
       "Insulin                     0\n",
       "BMI                         0\n",
       "DiabetesPedigreeFunction    0\n",
       "Age                         0\n",
       "Outcome                     0\n",
       "dtype: int64"
      ]
     },
     "execution_count": 5,
     "metadata": {},
     "output_type": "execute_result"
    }
   ],
   "source": [
    "df.isnull().sum()"
   ]
  },
  {
   "cell_type": "markdown",
   "id": "4c20781e-38b7-480b-adc5-556c7164b9d5",
   "metadata": {},
   "source": [
    "# X and y"
   ]
  },
  {
   "cell_type": "code",
   "execution_count": 6,
   "id": "aff6fe11-9bf3-45b0-989b-a499ffbc0ee2",
   "metadata": {},
   "outputs": [],
   "source": [
    "X = pd.get_dummies(df.drop('Outcome', axis = 1), drop_first = True)\n",
    "y = df['Outcome']"
   ]
  },
  {
   "cell_type": "markdown",
   "id": "c2d8c6f1-2b7b-4589-854e-0c79a67c5b26",
   "metadata": {},
   "source": [
    "# Train_Test_split"
   ]
  },
  {
   "cell_type": "code",
   "execution_count": 7,
   "id": "fccc4b3d-845c-4d82-9fb2-91b4bd76d021",
   "metadata": {},
   "outputs": [],
   "source": [
    "from sklearn.model_selection import train_test_split\n",
    "X_train, X_test, y_train, y_test = train_test_split(X, y, test_size = 0.2, random_state = True)"
   ]
  },
  {
   "cell_type": "markdown",
   "id": "7f9a56db-8bb4-498b-9d8d-467eb471ed18",
   "metadata": {},
   "source": [
    "# Modelling and Evaluation"
   ]
  },
  {
   "cell_type": "code",
   "execution_count": 8,
   "id": "df70c734-3097-4389-8ded-4f6f1eaf808a",
   "metadata": {},
   "outputs": [
    {
     "name": "stdout",
     "output_type": "stream",
     "text": [
      "Train accuracy :  1.0\n",
      "Test accuracy :  0.7341772151898734\n",
      "cross_val_score :  0.7910094125284\n"
     ]
    }
   ],
   "source": [
    "# Random Forest classifire with default parameters\n",
    "from sklearn.ensemble import RandomForestClassifier\n",
    "model = RandomForestClassifier(random_state = True)\n",
    "model.fit(X_train, y_train)\n",
    "\n",
    "# Prediction\n",
    "ypred_train = model.predict(X_train)\n",
    "ypred_test = model.predict(X_test)\n",
    "\n",
    "# Evaluation\n",
    "from sklearn.metrics import accuracy_score\n",
    "print(\"Train accuracy : \", accuracy_score(ypred_train, y_train))\n",
    "print(\"Test accuracy : \", accuracy_score(ypred_test, y_test))\n",
    "\n",
    "from sklearn.model_selection import cross_val_score\n",
    "print(\"cross_val_score : \", cross_val_score(model, X, y, cv=5).mean())"
   ]
  },
  {
   "cell_type": "markdown",
   "id": "97333364-11d5-414b-a5b0-d514972a0f2b",
   "metadata": {},
   "source": [
    "# Hyper_parameter Tuning"
   ]
  },
  {
   "cell_type": "code",
   "execution_count": 9,
   "id": "bde39ded-14c0-4f14-aae8-3160684b47a8",
   "metadata": {},
   "outputs": [
    {
     "data": {
      "text/plain": [
       "{'n_estimators': 6}"
      ]
     },
     "execution_count": 9,
     "metadata": {},
     "output_type": "execute_result"
    }
   ],
   "source": [
    "from sklearn.model_selection import GridSearchCV\n",
    "\n",
    "# model\n",
    "estimator = RandomForestClassifier(random_state = True)\n",
    "\n",
    "# Parameters (which you want to tune and identify the best)\n",
    "param_grid = {\"n_estimators\" : list(range(1, 10))}\n",
    "\n",
    "grid = GridSearchCV(estimator, param_grid, scoring = 'accuracy', cv= 5)\n",
    "\n",
    "grid.fit(X_train, y_train)\n",
    "\n",
    "grid.best_params_"
   ]
  },
  {
   "cell_type": "markdown",
   "id": "39d327bd-b588-40c7-a93b-a0006ee714d9",
   "metadata": {},
   "source": [
    "# Importance of each features"
   ]
  },
  {
   "cell_type": "code",
   "execution_count": 10,
   "id": "1ff4e42a-5ed4-4686-8b2e-ceffac495712",
   "metadata": {},
   "outputs": [
    {
     "data": {
      "text/plain": [
       "array([0.09861464, 0.32872845, 0.07951967, 0.08776356, 0.06597938,\n",
       "       0.11931882, 0.1383978 , 0.08167768])"
      ]
     },
     "execution_count": 10,
     "metadata": {},
     "output_type": "execute_result"
    }
   ],
   "source": [
    "grid.best_estimator_.feature_importances_\n"
   ]
  },
  {
   "cell_type": "code",
   "execution_count": 11,
   "id": "e0fbfb39-24ea-4294-946e-71f909c461ef",
   "metadata": {},
   "outputs": [
    {
     "data": {
      "text/plain": [
       "['Pregnancies',\n",
       " 'Glucose',\n",
       " 'BloodPressure',\n",
       " 'SkinThickness',\n",
       " 'Insulin',\n",
       " 'BMI',\n",
       " 'DiabetesPedigreeFunction',\n",
       " 'Age']"
      ]
     },
     "execution_count": 11,
     "metadata": {},
     "output_type": "execute_result"
    }
   ],
   "source": [
    "feats_imp = pd.DataFrame(data = grid.best_estimator_.feature_importances_, \n",
    "                         index = X.columns, \n",
    "                         columns = ['Feature Importance'])\n",
    "important_feats = feats_imp[feats_imp['Feature Importance'] > 0]\n",
    "important_features_list = important_feats.index.to_list()\n",
    "important_features_list"
   ]
  },
  {
   "cell_type": "markdown",
   "id": "13cf79b8-bb2c-4104-82d6-3d3fb0660dc8",
   "metadata": {},
   "source": [
    "# Final Random Forest model\n",
    "**with best HPT AND important features**"
   ]
  },
  {
   "cell_type": "code",
   "execution_count": 12,
   "id": "66e8059f-28dd-4ebf-b3b3-19a1f994e8f9",
   "metadata": {},
   "outputs": [
    {
     "name": "stdout",
     "output_type": "stream",
     "text": [
      "Train accuracy :  1.0\n",
      "Test accuracy :  0.759493670886076\n",
      "cross_val_score :  0.7910094125284\n"
     ]
    }
   ],
   "source": [
    "X_imp = X[important_features_list]\n",
    "\n",
    "# Train_Test_Split\n",
    "X_train, X_test, y_train, y_test = train_test_split(X, y, test_size = 0.2, random_state = True)\n",
    "\n",
    "\n",
    "# Model with best HPT AND important features\n",
    "final_rf_model = RandomForestClassifier()\n",
    "final_rf_model.fit(X_train, y_train)\n",
    "\n",
    "# Prediction\n",
    "ypred_train = final_rf_model.predict(X_train)\n",
    "ypred_test = final_rf_model.predict(X_test)\n",
    "\n",
    "# Evaluation\n",
    "from sklearn.metrics import accuracy_score\n",
    "print(\"Train accuracy : \", accuracy_score(ypred_train, y_train))\n",
    "print(\"Test accuracy : \", accuracy_score(ypred_test, y_test))\n",
    "\n",
    "from sklearn.model_selection import cross_val_score\n",
    "print(\"cross_val_score : \", cross_val_score(model, X, y, cv=5).mean())"
   ]
  },
  {
   "cell_type": "code",
   "execution_count": null,
   "id": "43a750c5-694c-49e3-b798-1babc4a5e69b",
   "metadata": {},
   "outputs": [],
   "source": []
  }
 ],
 "metadata": {
  "kernelspec": {
   "display_name": "Python 3 (ipykernel)",
   "language": "python",
   "name": "python3"
  },
  "language_info": {
   "codemirror_mode": {
    "name": "ipython",
    "version": 3
   },
   "file_extension": ".py",
   "mimetype": "text/x-python",
   "name": "python",
   "nbconvert_exporter": "python",
   "pygments_lexer": "ipython3",
   "version": "3.12.4"
  }
 },
 "nbformat": 4,
 "nbformat_minor": 5
}
